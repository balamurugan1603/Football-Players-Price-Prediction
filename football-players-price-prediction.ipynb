{
 "cells": [
  {
   "cell_type": "markdown",
   "id": "spoken-thompson",
   "metadata": {
    "papermill": {
     "duration": 0.028185,
     "end_time": "2021-06-10T15:03:54.913823",
     "exception": false,
     "start_time": "2021-06-10T15:03:54.885638",
     "status": "completed"
    },
    "tags": []
   },
   "source": [
    "**In this notebook we will be developing different models and evaluate how they work on our Football Players Price prediction data.**\n",
    "****\n",
    "Let's import required modules."
   ]
  },
  {
   "cell_type": "code",
   "execution_count": 1,
   "id": "eleven-stationery",
   "metadata": {
    "execution": {
     "iopub.execute_input": "2021-06-10T15:03:54.984796Z",
     "iopub.status.busy": "2021-06-10T15:03:54.984084Z",
     "iopub.status.idle": "2021-06-10T15:04:02.498533Z",
     "shell.execute_reply": "2021-06-10T15:04:02.497699Z",
     "shell.execute_reply.started": "2021-06-10T14:59:26.101544Z"
    },
    "papermill": {
     "duration": 7.55622,
     "end_time": "2021-06-10T15:04:02.498732",
     "exception": false,
     "start_time": "2021-06-10T15:03:54.942512",
     "status": "completed"
    },
    "tags": []
   },
   "outputs": [],
   "source": [
    "# Importing modules\n",
    "\n",
    "import pandas as pd\n",
    "import numpy as np\n",
    "import matplotlib.pyplot as plt\n",
    "import seaborn as sns\n",
    "import pickle                                          \n",
    "from category_encoders.target_encoder import TargetEncoder\n",
    "from sklearn.model_selection import train_test_split\n",
    "from sklearn.metrics import mean_squared_error as mse\n",
    "from sklearn.linear_model import LinearRegression, ElasticNet\n",
    "from sklearn.ensemble import RandomForestRegressor\n",
    "from xgboost import XGBRegressor\n",
    "from tensorflow.keras.models import Sequential, save_model\n",
    "from tensorflow.keras.layers import Dense, Dropout\n",
    "from tensorflow.keras.callbacks import EarlyStopping\n",
    "from IPython.display import display\n",
    "import warnings"
   ]
  },
  {
   "cell_type": "code",
   "execution_count": 2,
   "id": "genuine-europe",
   "metadata": {
    "execution": {
     "iopub.execute_input": "2021-06-10T15:04:02.554472Z",
     "iopub.status.busy": "2021-06-10T15:04:02.553473Z",
     "iopub.status.idle": "2021-06-10T15:04:02.557129Z",
     "shell.execute_reply": "2021-06-10T15:04:02.556548Z",
     "shell.execute_reply.started": "2021-06-10T14:54:06.102004Z"
    },
    "papermill": {
     "duration": 0.032848,
     "end_time": "2021-06-10T15:04:02.557289",
     "exception": false,
     "start_time": "2021-06-10T15:04:02.524441",
     "status": "completed"
    },
    "tags": []
   },
   "outputs": [],
   "source": [
    "# Disable displaying warnings\n",
    "warnings.filterwarnings(\"ignore\")"
   ]
  },
  {
   "cell_type": "markdown",
   "id": "professional-department",
   "metadata": {
    "papermill": {
     "duration": 0.024437,
     "end_time": "2021-06-10T15:04:02.606485",
     "exception": false,
     "start_time": "2021-06-10T15:04:02.582048",
     "status": "completed"
    },
    "tags": []
   },
   "source": [
    "****\n",
    "Let's define some functions which we will use later."
   ]
  },
  {
   "cell_type": "code",
   "execution_count": 3,
   "id": "ordered-mother",
   "metadata": {
    "execution": {
     "iopub.execute_input": "2021-06-10T15:04:02.670040Z",
     "iopub.status.busy": "2021-06-10T15:04:02.669085Z",
     "iopub.status.idle": "2021-06-10T15:04:02.672707Z",
     "shell.execute_reply": "2021-06-10T15:04:02.672053Z",
     "shell.execute_reply.started": "2021-06-10T14:59:37.041075Z"
    },
    "papermill": {
     "duration": 0.040791,
     "end_time": "2021-06-10T15:04:02.672841",
     "exception": false,
     "start_time": "2021-06-10T15:04:02.632050",
     "status": "completed"
    },
    "tags": []
   },
   "outputs": [],
   "source": [
    "# Combining columns using feature engineering\n",
    "def combine(col_key, df):\n",
    "    df[col_key] = (df[col_key+\"_champ\"]*0.15) + (df[col_key+\"_cup\"]*0.75) + (df[col_key+\"_continent\"])\n",
    "    df[col_key] = df[col_key].astype(int)\n",
    "    df.drop([col_key+\"_cup\", col_key+\"_champ\", col_key+\"_continent\"], axis=1, inplace=True)\n",
    "    \n",
    "\n",
    "# Max Normalisation\n",
    "def normalise(cols, df):\n",
    "    for col_key in cols:\n",
    "        df[col_key] = df[col_key] / np.max(df[col_key])\n",
    "        \n",
    "        \n",
    "# RMSE function\n",
    "def rmse(y_true, y_pred):\n",
    "    return np.sqrt(mse(y_true, y_pred))\n",
    "        \n",
    "\n",
    "# Creating DNN    \n",
    "def create_DNN(drop=0.2, act=\"relu\", optimizer=\"adam\"):\n",
    "    model = Sequential()\n",
    "    model.add(Dense(30, input_shape=(len(X_train.iloc[0,:]),), activation=act))\n",
    "    model.add(Dropout(drop))\n",
    "    model.add(Dense(20, activation=\"relu\"))\n",
    "    model.add(Dropout(drop))\n",
    "    model.add(Dense(20, activation=act))\n",
    "    model.add(Dropout(drop))\n",
    "    model.add(Dense(15, activation=\"relu\"))\n",
    "    model.add(Dropout(drop))\n",
    "    model.add(Dense(15, activation=act))\n",
    "    model.add(Dropout(drop))\n",
    "    model.add(Dense(5, activation=\"relu\"))\n",
    "    model.add(Dense(1, activation=\"linear\"))\n",
    "    model.compile(optimizer=optimizer, loss=\"mean_squared_error\")\n",
    "    return model"
   ]
  },
  {
   "cell_type": "markdown",
   "id": "broad-resource",
   "metadata": {
    "papermill": {
     "duration": 0.024806,
     "end_time": "2021-06-10T15:04:02.723301",
     "exception": false,
     "start_time": "2021-06-10T15:04:02.698495",
     "status": "completed"
    },
    "tags": []
   },
   "source": [
    "****\n",
    "Let's load our data."
   ]
  },
  {
   "cell_type": "code",
   "execution_count": 4,
   "id": "soviet-tutorial",
   "metadata": {
    "execution": {
     "iopub.execute_input": "2021-06-10T15:04:02.788045Z",
     "iopub.status.busy": "2021-06-10T15:04:02.787310Z",
     "iopub.status.idle": "2021-06-10T15:04:02.907113Z",
     "shell.execute_reply": "2021-06-10T15:04:02.906591Z",
     "shell.execute_reply.started": "2021-06-10T14:59:43.516525Z"
    },
    "papermill": {
     "duration": 0.159132,
     "end_time": "2021-06-10T15:04:02.907415",
     "exception": false,
     "start_time": "2021-06-10T15:04:02.748283",
     "status": "completed"
    },
    "tags": []
   },
   "outputs": [],
   "source": [
    "# Loading data\n",
    "data = pd.read_csv(\"../input/football-players-price-dataset/dataset_football_cleaned.csv\")"
   ]
  },
  {
   "cell_type": "markdown",
   "id": "knowing-biography",
   "metadata": {
    "papermill": {
     "duration": 0.02412,
     "end_time": "2021-06-10T15:04:02.956786",
     "exception": false,
     "start_time": "2021-06-10T15:04:02.932666",
     "status": "completed"
    },
    "tags": []
   },
   "source": [
    "****\n",
    "Let's start preprocessing our data."
   ]
  },
  {
   "cell_type": "code",
   "execution_count": 5,
   "id": "middle-beads",
   "metadata": {
    "execution": {
     "iopub.execute_input": "2021-06-10T15:04:03.023888Z",
     "iopub.status.busy": "2021-06-10T15:04:03.022765Z",
     "iopub.status.idle": "2021-06-10T15:04:03.074599Z",
     "shell.execute_reply": "2021-06-10T15:04:03.073952Z",
     "shell.execute_reply.started": "2021-06-10T14:59:46.935905Z"
    },
    "papermill": {
     "duration": 0.091974,
     "end_time": "2021-06-10T15:04:03.074796",
     "exception": false,
     "start_time": "2021-06-10T15:04:02.982822",
     "status": "completed"
    },
    "tags": []
   },
   "outputs": [],
   "source": [
    "# Converting into correct dtype\n",
    "data[[\"name\", \"first_name\", \"nation\", \"league\", \"team\", \"position\"]] = data[[\"name\", \"first_name\", \"nation\", \"league\", \"team\", \"position\"]].astype(\"category\")\n",
    "\n",
    "# Mean Imputation\n",
    "data[\"end_contract\"].fillna(int(np.mean(data[\"end_contract\"])), inplace=True)\n",
    "\n",
    "# Dropping unimportant features which can't be used for feature engineering\n",
    "data.drop([\"name\", \"first_name\"], axis=1, inplace=True)\n",
    "\n",
    "# Dropping columns containing no values\n",
    "data.drop([\"clean_sheet_champ\", \"conceded_goal_cup\", \"clean_sheet_cup\", \"conceded_goal_continent\", \"clean_sheet_continent\"], axis=1, inplace=True)\n",
    "\n",
    "# Dropping unimportant feature which is useless for feature engineering\n",
    "data.drop([\"conceded_goal_champ\"], axis=1, inplace=True)\n",
    "\n",
    "# Dropping unimportant feature which is useless for feature engineering\n",
    "data.drop([\"age\"], axis=1, inplace=True)"
   ]
  },
  {
   "cell_type": "code",
   "execution_count": 6,
   "id": "cultural-assault",
   "metadata": {
    "execution": {
     "iopub.execute_input": "2021-06-10T15:04:03.133304Z",
     "iopub.status.busy": "2021-06-10T15:04:03.132321Z",
     "iopub.status.idle": "2021-06-10T15:04:03.190381Z",
     "shell.execute_reply": "2021-06-10T15:04:03.189832Z",
     "shell.execute_reply.started": "2021-06-10T14:59:54.146398Z"
    },
    "papermill": {
     "duration": 0.089636,
     "end_time": "2021-06-10T15:04:03.190545",
     "exception": false,
     "start_time": "2021-06-10T15:04:03.100909",
     "status": "completed"
    },
    "tags": []
   },
   "outputs": [],
   "source": [
    "# Creating new features from existing features while preserving corrolations and reducing dimensions using feature engineering\n",
    "\n",
    "combine(\"goal\", data)\n",
    "combine(\"assist\", data)\n",
    "combine(\"sub_out\", data)\n",
    "combine(\"sub_on\", data)\n",
    "combine(\"yellow_card\", data)\n",
    "combine(\"penalty_goal\", data)\n",
    "combine(\"second_yellow_card\", data)\n",
    "combine(\"red_card\", data)\n",
    "combine(\"own_goal\", data)"
   ]
  },
  {
   "cell_type": "code",
   "execution_count": 7,
   "id": "clear-injection",
   "metadata": {
    "execution": {
     "iopub.execute_input": "2021-06-10T15:04:03.251027Z",
     "iopub.status.busy": "2021-06-10T15:04:03.250144Z",
     "iopub.status.idle": "2021-06-10T15:04:03.375081Z",
     "shell.execute_reply": "2021-06-10T15:04:03.374569Z",
     "shell.execute_reply.started": "2021-06-10T15:00:11.346308Z"
    },
    "papermill": {
     "duration": 0.159383,
     "end_time": "2021-06-10T15:04:03.375227",
     "exception": false,
     "start_time": "2021-06-10T15:04:03.215844",
     "status": "completed"
    },
    "tags": []
   },
   "outputs": [],
   "source": [
    "# Instantiating mean encoder for categorical features\n",
    "te = TargetEncoder(cols=[\"nation\", \"league\", \"team\", \"position\"])\n",
    "\n",
    "# Fitting encoder to data\n",
    "te.fit(data[[\"nation\", \"league\", \"team\", \"position\"]], data[\"price\"])\n",
    "\n",
    "# Mean encoding data \n",
    "data[[\"nation\", \"league\", \"team\", \"position\"]] = te.transform(data[[\"nation\", \"league\", \"team\", \"position\"]])"
   ]
  },
  {
   "cell_type": "code",
   "execution_count": 8,
   "id": "prime-terrorism",
   "metadata": {
    "execution": {
     "iopub.execute_input": "2021-06-10T15:04:03.434290Z",
     "iopub.status.busy": "2021-06-10T15:04:03.433157Z",
     "iopub.status.idle": "2021-06-10T15:04:03.478216Z",
     "shell.execute_reply": "2021-06-10T15:04:03.478744Z",
     "shell.execute_reply.started": "2021-06-10T15:00:16.781008Z"
    },
    "papermill": {
     "duration": 0.078334,
     "end_time": "2021-06-10T15:04:03.478915",
     "exception": false,
     "start_time": "2021-06-10T15:04:03.400581",
     "status": "completed"
    },
    "tags": []
   },
   "outputs": [
    {
     "data": {
      "text/html": [
       "<div>\n",
       "<style scoped>\n",
       "    .dataframe tbody tr th:only-of-type {\n",
       "        vertical-align: middle;\n",
       "    }\n",
       "\n",
       "    .dataframe tbody tr th {\n",
       "        vertical-align: top;\n",
       "    }\n",
       "\n",
       "    .dataframe thead th {\n",
       "        text-align: right;\n",
       "    }\n",
       "</style>\n",
       "<table border=\"1\" class=\"dataframe\">\n",
       "  <thead>\n",
       "    <tr style=\"text-align: right;\">\n",
       "      <th></th>\n",
       "      <th>price_normalised</th>\n",
       "    </tr>\n",
       "  </thead>\n",
       "  <tbody>\n",
       "    <tr>\n",
       "      <th>price_normalised</th>\n",
       "      <td>1.000000</td>\n",
       "    </tr>\n",
       "    <tr>\n",
       "      <th>price</th>\n",
       "      <td>1.000000</td>\n",
       "    </tr>\n",
       "    <tr>\n",
       "      <th>team</th>\n",
       "      <td>0.729313</td>\n",
       "    </tr>\n",
       "    <tr>\n",
       "      <th>goal</th>\n",
       "      <td>0.437034</td>\n",
       "    </tr>\n",
       "    <tr>\n",
       "      <th>assist</th>\n",
       "      <td>0.430180</td>\n",
       "    </tr>\n",
       "    <tr>\n",
       "      <th>league</th>\n",
       "      <td>0.379942</td>\n",
       "    </tr>\n",
       "    <tr>\n",
       "      <th>goals_selection</th>\n",
       "      <td>0.375067</td>\n",
       "    </tr>\n",
       "    <tr>\n",
       "      <th>end_contract</th>\n",
       "      <td>0.310738</td>\n",
       "    </tr>\n",
       "    <tr>\n",
       "      <th>sub_out</th>\n",
       "      <td>0.294645</td>\n",
       "    </tr>\n",
       "    <tr>\n",
       "      <th>selections_nation</th>\n",
       "      <td>0.288971</td>\n",
       "    </tr>\n",
       "    <tr>\n",
       "      <th>nation</th>\n",
       "      <td>0.282257</td>\n",
       "    </tr>\n",
       "    <tr>\n",
       "      <th>sub_on</th>\n",
       "      <td>0.263591</td>\n",
       "    </tr>\n",
       "    <tr>\n",
       "      <th>yellow_card</th>\n",
       "      <td>0.248272</td>\n",
       "    </tr>\n",
       "    <tr>\n",
       "      <th>position</th>\n",
       "      <td>0.115284</td>\n",
       "    </tr>\n",
       "    <tr>\n",
       "      <th>second_yellow_card</th>\n",
       "      <td>0.067442</td>\n",
       "    </tr>\n",
       "    <tr>\n",
       "      <th>own_goal</th>\n",
       "      <td>0.051610</td>\n",
       "    </tr>\n",
       "    <tr>\n",
       "      <th>red_card</th>\n",
       "      <td>0.036017</td>\n",
       "    </tr>\n",
       "    <tr>\n",
       "      <th>penalty_goal</th>\n",
       "      <td>0.020666</td>\n",
       "    </tr>\n",
       "  </tbody>\n",
       "</table>\n",
       "</div>"
      ],
      "text/plain": [
       "                    price_normalised\n",
       "price_normalised            1.000000\n",
       "price                       1.000000\n",
       "team                        0.729313\n",
       "goal                        0.437034\n",
       "assist                      0.430180\n",
       "league                      0.379942\n",
       "goals_selection             0.375067\n",
       "end_contract                0.310738\n",
       "sub_out                     0.294645\n",
       "selections_nation           0.288971\n",
       "nation                      0.282257\n",
       "sub_on                      0.263591\n",
       "yellow_card                 0.248272\n",
       "position                    0.115284\n",
       "second_yellow_card          0.067442\n",
       "own_goal                    0.051610\n",
       "red_card                    0.036017\n",
       "penalty_goal                0.020666"
      ]
     },
     "metadata": {},
     "output_type": "display_data"
    }
   ],
   "source": [
    "# Max Normalising numerical features\n",
    "normalise([\"nation\", \"league\", \"team\", \"goals_selection\", \"selections_nation\", \"position\", \"end_contract\", \"goal\", \"assist\",  \\\n",
    "            \"sub_out\", \"sub_on\", \"yellow_card\", \"penalty_goal\", \"second_yellow_card\", \"red_card\", \"own_goal\"], df=data)\n",
    "\n",
    "# Normalising target variable (It helps in efficient training of some algorithms)\n",
    "max_price = np.max(data[\"price\"])\n",
    "data[\"price_normalised\"] = data[\"price\"]/max_price \n",
    "\n",
    "# displaying correlations after processing our data\n",
    "display(pd.DataFrame(data.corr()[\"price_normalised\"]).sort_values([\"price_normalised\"], ascending=False))"
   ]
  },
  {
   "cell_type": "code",
   "execution_count": 9,
   "id": "earlier-recorder",
   "metadata": {
    "execution": {
     "iopub.execute_input": "2021-06-10T15:04:03.539683Z",
     "iopub.status.busy": "2021-06-10T15:04:03.538440Z",
     "iopub.status.idle": "2021-06-10T15:04:03.544665Z",
     "shell.execute_reply": "2021-06-10T15:04:03.544120Z",
     "shell.execute_reply.started": "2021-06-10T15:00:22.952029Z"
    },
    "papermill": {
     "duration": 0.038106,
     "end_time": "2021-06-10T15:04:03.544848",
     "exception": false,
     "start_time": "2021-06-10T15:04:03.506742",
     "status": "completed"
    },
    "tags": []
   },
   "outputs": [],
   "source": [
    "# Dropping unimportant features\n",
    "data.drop([\"position\", \"second_yellow_card\", \"red_card\", \"own_goal\", \"penalty_goal\"], axis=1, inplace=True)"
   ]
  },
  {
   "cell_type": "markdown",
   "id": "cloudy-tennessee",
   "metadata": {
    "papermill": {
     "duration": 0.025232,
     "end_time": "2021-06-10T15:04:03.596381",
     "exception": false,
     "start_time": "2021-06-10T15:04:03.571149",
     "status": "completed"
    },
    "tags": []
   },
   "source": [
    "****\n",
    "Let's Export the data we processed."
   ]
  },
  {
   "cell_type": "code",
   "execution_count": 10,
   "id": "classical-asset",
   "metadata": {
    "execution": {
     "iopub.execute_input": "2021-06-10T15:04:03.654704Z",
     "iopub.status.busy": "2021-06-10T15:04:03.653920Z",
     "iopub.status.idle": "2021-06-10T15:04:04.157138Z",
     "shell.execute_reply": "2021-06-10T15:04:04.157735Z",
     "shell.execute_reply.started": "2021-06-10T14:54:06.531664Z"
    },
    "papermill": {
     "duration": 0.535052,
     "end_time": "2021-06-10T15:04:04.157920",
     "exception": false,
     "start_time": "2021-06-10T15:04:03.622868",
     "status": "completed"
    },
    "tags": []
   },
   "outputs": [],
   "source": [
    "# Creating csv file of processed data\n",
    "data.to_csv(\"preprocessed_data.csv\")"
   ]
  },
  {
   "cell_type": "markdown",
   "id": "aggregate-specific",
   "metadata": {
    "papermill": {
     "duration": 0.025955,
     "end_time": "2021-06-10T15:04:04.212113",
     "exception": false,
     "start_time": "2021-06-10T15:04:04.186158",
     "status": "completed"
    },
    "tags": []
   },
   "source": [
    "****\n",
    "Splitting data into training and validation sets."
   ]
  },
  {
   "cell_type": "code",
   "execution_count": 11,
   "id": "artificial-allen",
   "metadata": {
    "execution": {
     "iopub.execute_input": "2021-06-10T15:04:04.274430Z",
     "iopub.status.busy": "2021-06-10T15:04:04.273284Z",
     "iopub.status.idle": "2021-06-10T15:04:04.278941Z",
     "shell.execute_reply": "2021-06-10T15:04:04.278432Z",
     "shell.execute_reply.started": "2021-06-10T15:00:29.136567Z"
    },
    "papermill": {
     "duration": 0.040875,
     "end_time": "2021-06-10T15:04:04.279075",
     "exception": false,
     "start_time": "2021-06-10T15:04:04.238200",
     "status": "completed"
    },
    "tags": []
   },
   "outputs": [],
   "source": [
    "# Train test splitting\n",
    "X = data.loc[:, (data.columns!=\"price\") & (data.columns!=\"price_normalised\")]\n",
    "y = data[\"price_normalised\"]\n",
    "X_train, X_test, y_train, y_test = train_test_split(X, y, test_size=0.3, random_state=22)"
   ]
  },
  {
   "cell_type": "markdown",
   "id": "returning-progress",
   "metadata": {
    "papermill": {
     "duration": 0.026024,
     "end_time": "2021-06-10T15:04:04.330657",
     "exception": false,
     "start_time": "2021-06-10T15:04:04.304633",
     "status": "completed"
    },
    "tags": []
   },
   "source": [
    "****\n",
    "Let's create different models."
   ]
  },
  {
   "cell_type": "code",
   "execution_count": 12,
   "id": "treated-pension",
   "metadata": {
    "execution": {
     "iopub.execute_input": "2021-06-10T15:04:04.390925Z",
     "iopub.status.busy": "2021-06-10T15:04:04.390295Z",
     "iopub.status.idle": "2021-06-10T15:04:04.424893Z",
     "shell.execute_reply": "2021-06-10T15:04:04.426630Z",
     "shell.execute_reply.started": "2021-06-10T14:54:07.082770Z"
    },
    "papermill": {
     "duration": 0.070171,
     "end_time": "2021-06-10T15:04:04.426922",
     "exception": false,
     "start_time": "2021-06-10T15:04:04.356751",
     "status": "completed"
    },
    "tags": []
   },
   "outputs": [],
   "source": [
    "# Evaluating with Linear Regression algorithm\n",
    "lr = LinearRegression()\n",
    "lr.fit(X_train, y_train)\n",
    "lr_pred = lr.predict(X_test)"
   ]
  },
  {
   "cell_type": "code",
   "execution_count": 13,
   "id": "herbal-inside",
   "metadata": {
    "execution": {
     "iopub.execute_input": "2021-06-10T15:04:04.545165Z",
     "iopub.status.busy": "2021-06-10T15:04:04.544149Z",
     "iopub.status.idle": "2021-06-10T15:04:21.773822Z",
     "shell.execute_reply": "2021-06-10T15:04:21.773257Z",
     "shell.execute_reply.started": "2021-06-10T14:54:07.116441Z"
    },
    "papermill": {
     "duration": 17.284052,
     "end_time": "2021-06-10T15:04:21.773997",
     "exception": false,
     "start_time": "2021-06-10T15:04:04.489945",
     "status": "completed"
    },
    "tags": []
   },
   "outputs": [],
   "source": [
    "# Evaluating with Random Forest Regression algorithm\n",
    "rfr = RandomForestRegressor(n_estimators=600, max_depth=40, min_samples_leaf=2, min_samples_split=15)\n",
    "rfr.fit(X_train, y_train)\n",
    "rfr_pred = rfr.predict(X_test)"
   ]
  },
  {
   "cell_type": "code",
   "execution_count": 14,
   "id": "agricultural-armenia",
   "metadata": {
    "execution": {
     "iopub.execute_input": "2021-06-10T15:04:21.834715Z",
     "iopub.status.busy": "2021-06-10T15:04:21.833933Z",
     "iopub.status.idle": "2021-06-10T15:04:23.815474Z",
     "shell.execute_reply": "2021-06-10T15:04:23.814858Z",
     "shell.execute_reply.started": "2021-06-10T14:54:22.026516Z"
    },
    "papermill": {
     "duration": 2.01478,
     "end_time": "2021-06-10T15:04:23.815640",
     "exception": false,
     "start_time": "2021-06-10T15:04:21.800860",
     "status": "completed"
    },
    "tags": []
   },
   "outputs": [
    {
     "name": "stdout",
     "output_type": "stream",
     "text": [
      "[15:04:21] WARNING: ../src/objective/regression_obj.cu:171: reg:linear is now deprecated in favor of reg:squarederror.\n"
     ]
    }
   ],
   "source": [
    "# Evaluating with gradient boosting algorithm\n",
    "xgbr = XGBRegressor(objective=\"reg:linear\", random_state=22)\n",
    "xgbr.fit(X_train, y_train)\n",
    "xgbr_pred = xgbr.predict(X_test)"
   ]
  },
  {
   "cell_type": "code",
   "execution_count": 15,
   "id": "given-influence",
   "metadata": {
    "execution": {
     "iopub.execute_input": "2021-06-10T15:04:23.877515Z",
     "iopub.status.busy": "2021-06-10T15:04:23.876634Z",
     "iopub.status.idle": "2021-06-10T15:04:23.891567Z",
     "shell.execute_reply": "2021-06-10T15:04:23.892483Z",
     "shell.execute_reply.started": "2021-06-10T14:57:28.990547Z"
    },
    "papermill": {
     "duration": 0.049836,
     "end_time": "2021-06-10T15:04:23.892787",
     "exception": false,
     "start_time": "2021-06-10T15:04:23.842951",
     "status": "completed"
    },
    "tags": []
   },
   "outputs": [],
   "source": [
    "# Evaluating with elastic net regression algorithm\n",
    "enr = ElasticNet(max_iter=18, alpha=0.0001, l1_ratio = 1)\n",
    "enr.fit(X_train, y_train)\n",
    "enr_pred = enr.predict(X_test)"
   ]
  },
  {
   "cell_type": "code",
   "execution_count": 16,
   "id": "patient-guidance",
   "metadata": {
    "execution": {
     "iopub.execute_input": "2021-06-10T15:04:24.039698Z",
     "iopub.status.busy": "2021-06-10T15:04:24.038853Z",
     "iopub.status.idle": "2021-06-10T15:07:37.201492Z",
     "shell.execute_reply": "2021-06-10T15:07:37.200672Z",
     "shell.execute_reply.started": "2021-06-10T15:00:35.416508Z"
    },
    "papermill": {
     "duration": 193.196653,
     "end_time": "2021-06-10T15:07:37.201770",
     "exception": false,
     "start_time": "2021-06-10T15:04:24.005117",
     "status": "completed"
    },
    "tags": []
   },
   "outputs": [
    {
     "name": "stdout",
     "output_type": "stream",
     "text": [
      "Epoch 1/100\n",
      "445/445 [==============================] - 5s 6ms/step - loss: 9.7795e-04 - val_loss: 6.4995e-04\n",
      "Epoch 2/100\n",
      "445/445 [==============================] - 2s 4ms/step - loss: 7.3033e-04 - val_loss: 7.2899e-04\n",
      "Epoch 3/100\n",
      "445/445 [==============================] - 2s 4ms/step - loss: 5.8456e-04 - val_loss: 7.6087e-04\n",
      "Epoch 4/100\n",
      "445/445 [==============================] - 2s 4ms/step - loss: 5.9995e-04 - val_loss: 5.6355e-04\n",
      "Epoch 5/100\n",
      "445/445 [==============================] - 2s 4ms/step - loss: 5.9812e-04 - val_loss: 5.8169e-04\n",
      "Epoch 6/100\n",
      "445/445 [==============================] - 2s 5ms/step - loss: 7.7539e-04 - val_loss: 5.9527e-04\n",
      "Epoch 7/100\n",
      "445/445 [==============================] - 2s 4ms/step - loss: 5.0140e-04 - val_loss: 5.6855e-04\n",
      "Epoch 8/100\n",
      "445/445 [==============================] - 2s 4ms/step - loss: 4.6318e-04 - val_loss: 5.4532e-04\n",
      "Epoch 9/100\n",
      "445/445 [==============================] - 2s 4ms/step - loss: 5.8578e-04 - val_loss: 5.0641e-04\n",
      "Epoch 10/100\n",
      "445/445 [==============================] - 2s 4ms/step - loss: 4.7534e-04 - val_loss: 4.8881e-04\n",
      "Epoch 11/100\n",
      "445/445 [==============================] - 2s 4ms/step - loss: 4.2935e-04 - val_loss: 5.4498e-04\n",
      "Epoch 12/100\n",
      "445/445 [==============================] - 2s 5ms/step - loss: 3.9511e-04 - val_loss: 4.8148e-04\n",
      "Epoch 13/100\n",
      "445/445 [==============================] - 2s 4ms/step - loss: 4.9633e-04 - val_loss: 5.0588e-04\n",
      "Epoch 14/100\n",
      "445/445 [==============================] - 2s 4ms/step - loss: 4.3926e-04 - val_loss: 5.2539e-04\n",
      "Epoch 15/100\n",
      "445/445 [==============================] - 2s 4ms/step - loss: 4.6578e-04 - val_loss: 4.8674e-04\n",
      "Epoch 16/100\n",
      "445/445 [==============================] - 2s 4ms/step - loss: 4.4819e-04 - val_loss: 5.0451e-04\n",
      "Epoch 17/100\n",
      "445/445 [==============================] - 2s 4ms/step - loss: 3.6699e-04 - val_loss: 5.4536e-04\n",
      "Epoch 18/100\n",
      "445/445 [==============================] - 2s 5ms/step - loss: 5.1918e-04 - val_loss: 4.9625e-04\n",
      "Epoch 19/100\n",
      "445/445 [==============================] - 2s 4ms/step - loss: 4.2764e-04 - val_loss: 4.4905e-04\n",
      "Epoch 20/100\n",
      "445/445 [==============================] - 2s 4ms/step - loss: 5.8173e-04 - val_loss: 5.0472e-04\n",
      "Epoch 21/100\n",
      "445/445 [==============================] - 2s 4ms/step - loss: 4.8037e-04 - val_loss: 4.8219e-04\n",
      "Epoch 22/100\n",
      "445/445 [==============================] - 2s 4ms/step - loss: 3.2003e-04 - val_loss: 4.9175e-04\n",
      "Epoch 23/100\n",
      "445/445 [==============================] - 2s 4ms/step - loss: 4.2587e-04 - val_loss: 4.9945e-04\n",
      "Epoch 24/100\n",
      "445/445 [==============================] - 3s 6ms/step - loss: 4.0962e-04 - val_loss: 4.6605e-04\n",
      "Epoch 25/100\n",
      "445/445 [==============================] - 2s 4ms/step - loss: 5.6890e-04 - val_loss: 4.6754e-04\n",
      "Epoch 26/100\n",
      "445/445 [==============================] - 2s 4ms/step - loss: 4.0754e-04 - val_loss: 4.5243e-04\n",
      "Epoch 27/100\n",
      "445/445 [==============================] - 2s 4ms/step - loss: 4.6002e-04 - val_loss: 4.8834e-04\n",
      "Epoch 28/100\n",
      "445/445 [==============================] - 2s 4ms/step - loss: 3.6270e-04 - val_loss: 4.8208e-04\n",
      "Epoch 29/100\n",
      "445/445 [==============================] - 2s 4ms/step - loss: 3.8021e-04 - val_loss: 4.9306e-04\n",
      "Epoch 30/100\n",
      "445/445 [==============================] - 2s 5ms/step - loss: 4.0425e-04 - val_loss: 4.5772e-04\n",
      "Epoch 31/100\n",
      "445/445 [==============================] - 2s 4ms/step - loss: 3.5762e-04 - val_loss: 5.2249e-04\n",
      "Epoch 32/100\n",
      "445/445 [==============================] - 2s 4ms/step - loss: 4.5281e-04 - val_loss: 4.4418e-04\n",
      "Epoch 33/100\n",
      "445/445 [==============================] - 2s 4ms/step - loss: 4.3038e-04 - val_loss: 4.8958e-04\n",
      "Epoch 34/100\n",
      "445/445 [==============================] - 2s 4ms/step - loss: 3.3174e-04 - val_loss: 4.9299e-04\n",
      "Epoch 35/100\n",
      "445/445 [==============================] - 2s 4ms/step - loss: 3.7266e-04 - val_loss: 6.6186e-04\n",
      "Epoch 36/100\n",
      "445/445 [==============================] - 2s 5ms/step - loss: 4.1531e-04 - val_loss: 4.7682e-04\n",
      "Epoch 37/100\n",
      "445/445 [==============================] - 2s 4ms/step - loss: 4.7918e-04 - val_loss: 4.6686e-04\n",
      "Epoch 38/100\n",
      "445/445 [==============================] - 2s 4ms/step - loss: 4.4014e-04 - val_loss: 4.8225e-04\n",
      "Epoch 39/100\n",
      "445/445 [==============================] - 2s 4ms/step - loss: 4.6695e-04 - val_loss: 4.6409e-04\n",
      "Epoch 40/100\n",
      "445/445 [==============================] - 2s 4ms/step - loss: 3.3038e-04 - val_loss: 4.6089e-04\n",
      "Epoch 41/100\n",
      "445/445 [==============================] - 2s 5ms/step - loss: 3.0546e-04 - val_loss: 4.5951e-04\n",
      "Epoch 42/100\n",
      "445/445 [==============================] - 2s 5ms/step - loss: 3.5333e-04 - val_loss: 5.4054e-04\n",
      "Epoch 43/100\n",
      "445/445 [==============================] - 2s 4ms/step - loss: 4.8555e-04 - val_loss: 4.6114e-04\n",
      "Epoch 44/100\n",
      "445/445 [==============================] - 2s 4ms/step - loss: 3.3021e-04 - val_loss: 4.5430e-04\n",
      "Epoch 45/100\n",
      "445/445 [==============================] - 2s 4ms/step - loss: 3.2857e-04 - val_loss: 5.3735e-04\n",
      "Epoch 46/100\n",
      "445/445 [==============================] - 2s 4ms/step - loss: 3.8675e-04 - val_loss: 4.6173e-04\n",
      "Epoch 47/100\n",
      "445/445 [==============================] - 2s 5ms/step - loss: 4.3903e-04 - val_loss: 4.6845e-04\n",
      "Epoch 48/100\n",
      "445/445 [==============================] - 2s 4ms/step - loss: 4.1884e-04 - val_loss: 4.7336e-04\n",
      "Epoch 49/100\n",
      "445/445 [==============================] - 2s 4ms/step - loss: 4.4407e-04 - val_loss: 5.5093e-04\n",
      "Epoch 50/100\n",
      "445/445 [==============================] - 2s 4ms/step - loss: 4.4256e-04 - val_loss: 4.6494e-04\n",
      "Epoch 51/100\n",
      "445/445 [==============================] - 2s 4ms/step - loss: 3.1477e-04 - val_loss: 5.5670e-04\n",
      "Epoch 52/100\n",
      "445/445 [==============================] - 2s 4ms/step - loss: 3.4881e-04 - val_loss: 4.9292e-04\n",
      "Epoch 53/100\n",
      "445/445 [==============================] - 2s 4ms/step - loss: 4.3605e-04 - val_loss: 4.7163e-04\n",
      "Epoch 54/100\n",
      "445/445 [==============================] - 2s 5ms/step - loss: 4.2826e-04 - val_loss: 4.7147e-04\n",
      "Epoch 55/100\n",
      "445/445 [==============================] - 2s 4ms/step - loss: 3.2138e-04 - val_loss: 4.7093e-04\n",
      "Epoch 56/100\n",
      "445/445 [==============================] - 2s 4ms/step - loss: 3.6131e-04 - val_loss: 5.1103e-04\n",
      "Epoch 57/100\n",
      "445/445 [==============================] - 2s 4ms/step - loss: 4.5240e-04 - val_loss: 4.8070e-04\n",
      "Epoch 58/100\n",
      "445/445 [==============================] - 2s 4ms/step - loss: 3.4943e-04 - val_loss: 4.7027e-04\n",
      "Epoch 59/100\n",
      "445/445 [==============================] - 2s 4ms/step - loss: 3.0111e-04 - val_loss: 4.5797e-04\n",
      "Epoch 60/100\n",
      "445/445 [==============================] - 2s 5ms/step - loss: 3.9858e-04 - val_loss: 4.6695e-04\n",
      "Epoch 61/100\n",
      "445/445 [==============================] - 2s 4ms/step - loss: 3.0246e-04 - val_loss: 4.5929e-04\n",
      "Epoch 62/100\n",
      "445/445 [==============================] - 2s 4ms/step - loss: 3.7206e-04 - val_loss: 4.6665e-04\n",
      "Epoch 63/100\n",
      "445/445 [==============================] - 2s 4ms/step - loss: 3.1743e-04 - val_loss: 4.8581e-04\n",
      "Epoch 64/100\n",
      "445/445 [==============================] - 2s 5ms/step - loss: 4.4122e-04 - val_loss: 4.7417e-04\n",
      "Epoch 65/100\n",
      "445/445 [==============================] - 2s 5ms/step - loss: 3.5496e-04 - val_loss: 4.8558e-04\n",
      "Epoch 66/100\n",
      "445/445 [==============================] - 2s 5ms/step - loss: 4.3687e-04 - val_loss: 5.1675e-04\n",
      "Epoch 67/100\n",
      "445/445 [==============================] - 2s 4ms/step - loss: 3.1953e-04 - val_loss: 4.9666e-04\n",
      "Epoch 68/100\n",
      "445/445 [==============================] - 2s 4ms/step - loss: 3.2674e-04 - val_loss: 4.6213e-04\n",
      "Epoch 69/100\n",
      "445/445 [==============================] - 2s 4ms/step - loss: 3.8041e-04 - val_loss: 5.0713e-04\n",
      "Epoch 70/100\n",
      "445/445 [==============================] - 2s 4ms/step - loss: 4.0910e-04 - val_loss: 4.5659e-04\n",
      "Epoch 71/100\n",
      "445/445 [==============================] - 2s 5ms/step - loss: 2.9768e-04 - val_loss: 4.4917e-04\n",
      "Epoch 72/100\n",
      "445/445 [==============================] - 2s 4ms/step - loss: 3.8567e-04 - val_loss: 4.8578e-04\n",
      "Epoch 73/100\n",
      "445/445 [==============================] - 2s 4ms/step - loss: 3.6842e-04 - val_loss: 4.8292e-04\n",
      "Epoch 74/100\n",
      "445/445 [==============================] - 2s 4ms/step - loss: 4.0872e-04 - val_loss: 4.8021e-04\n",
      "Epoch 75/100\n",
      "445/445 [==============================] - 2s 4ms/step - loss: 3.6860e-04 - val_loss: 4.7074e-04\n",
      "Epoch 76/100\n",
      "445/445 [==============================] - 2s 4ms/step - loss: 3.2746e-04 - val_loss: 4.5263e-04\n",
      "Epoch 77/100\n",
      "445/445 [==============================] - 2s 4ms/step - loss: 3.1126e-04 - val_loss: 4.6852e-04\n",
      "Epoch 78/100\n",
      "445/445 [==============================] - 2s 4ms/step - loss: 3.7970e-04 - val_loss: 4.7612e-04\n",
      "Epoch 79/100\n",
      "445/445 [==============================] - 2s 4ms/step - loss: 4.4743e-04 - val_loss: 5.1478e-04\n",
      "Epoch 80/100\n",
      "445/445 [==============================] - 2s 4ms/step - loss: 3.8023e-04 - val_loss: 5.5652e-04\n",
      "Epoch 81/100\n",
      "445/445 [==============================] - 2s 5ms/step - loss: 4.4151e-04 - val_loss: 4.8116e-04\n",
      "Epoch 82/100\n",
      "445/445 [==============================] - 2s 4ms/step - loss: 3.1565e-04 - val_loss: 4.7505e-04\n",
      "Epoch 83/100\n",
      "445/445 [==============================] - 2s 5ms/step - loss: 3.8815e-04 - val_loss: 5.1331e-04\n",
      "Epoch 84/100\n",
      "445/445 [==============================] - 2s 4ms/step - loss: 3.5007e-04 - val_loss: 4.8934e-04\n",
      "Epoch 85/100\n",
      "445/445 [==============================] - 2s 4ms/step - loss: 3.5353e-04 - val_loss: 4.6682e-04\n",
      "Epoch 86/100\n",
      "445/445 [==============================] - 2s 4ms/step - loss: 5.0804e-04 - val_loss: 4.9556e-04\n",
      "Epoch 87/100\n",
      "445/445 [==============================] - 2s 5ms/step - loss: 3.8112e-04 - val_loss: 4.8105e-04\n",
      "Epoch 88/100\n",
      "445/445 [==============================] - 2s 4ms/step - loss: 4.2431e-04 - val_loss: 5.0081e-04\n",
      "Epoch 89/100\n",
      "445/445 [==============================] - 2s 5ms/step - loss: 3.4709e-04 - val_loss: 4.8772e-04\n",
      "Epoch 90/100\n",
      "445/445 [==============================] - 2s 4ms/step - loss: 3.4107e-04 - val_loss: 4.7487e-04\n",
      "Epoch 91/100\n",
      "445/445 [==============================] - 2s 4ms/step - loss: 3.9252e-04 - val_loss: 4.5973e-04\n",
      "Epoch 92/100\n",
      "445/445 [==============================] - 2s 4ms/step - loss: 4.1009e-04 - val_loss: 4.5158e-04\n",
      "Epoch 93/100\n",
      "445/445 [==============================] - 2s 4ms/step - loss: 3.1507e-04 - val_loss: 4.7106e-04\n",
      "Epoch 94/100\n",
      "445/445 [==============================] - 2s 4ms/step - loss: 3.7138e-04 - val_loss: 4.9262e-04\n",
      "Epoch 95/100\n",
      "445/445 [==============================] - 2s 5ms/step - loss: 3.0479e-04 - val_loss: 4.7856e-04\n",
      "Epoch 96/100\n",
      "445/445 [==============================] - 2s 4ms/step - loss: 3.6140e-04 - val_loss: 5.3119e-04\n",
      "Epoch 97/100\n",
      "445/445 [==============================] - 2s 4ms/step - loss: 2.8707e-04 - val_loss: 4.5546e-04\n",
      "Epoch 98/100\n",
      "445/445 [==============================] - 2s 5ms/step - loss: 4.5740e-04 - val_loss: 4.2837e-04\n",
      "Epoch 99/100\n",
      "445/445 [==============================] - 2s 4ms/step - loss: 3.3600e-04 - val_loss: 4.8671e-04\n",
      "Epoch 100/100\n",
      "445/445 [==============================] - 2s 5ms/step - loss: 3.1159e-04 - val_loss: 4.4389e-04\n"
     ]
    }
   ],
   "source": [
    "# Evaluating with DNN regression algorithm\n",
    "\n",
    "# Instantiating early stopping callback\n",
    "es = EarlyStopping(monitor=\"mean_squared_error\", mode='min', verbose=2, patience=3)\n",
    "\n",
    "# Creating DNN\n",
    "dnn = create_DNN(drop=0.1, act=\"tanh\")\n",
    "\n",
    "# Fitting to data\n",
    "dnn.fit(X_train, y_train, validation_data=(X_test, y_test), epochs=100, batch_size=20, callbacks=[es])\n",
    "\n",
    "# Generating predictions\n",
    "dnn_pred = dnn.predict(X_test)"
   ]
  },
  {
   "cell_type": "code",
   "execution_count": 17,
   "id": "surprised-karaoke",
   "metadata": {
    "execution": {
     "iopub.execute_input": "2021-06-10T15:07:39.298389Z",
     "iopub.status.busy": "2021-06-10T15:07:39.296519Z",
     "iopub.status.idle": "2021-06-10T15:07:39.300413Z",
     "shell.execute_reply": "2021-06-10T15:07:39.299820Z",
     "shell.execute_reply.started": "2021-06-10T14:56:29.523142Z"
    },
    "papermill": {
     "duration": 1.084344,
     "end_time": "2021-06-10T15:07:39.300611",
     "exception": false,
     "start_time": "2021-06-10T15:07:38.216267",
     "status": "completed"
    },
    "tags": []
   },
   "outputs": [],
   "source": [
    "# Weighted Average Ensemble\n",
    "weighted_avg_pred = (rfr_pred*0.4)+(xgbr_pred*0.3)+(dnn_pred.reshape(len(dnn_pred))*0.3)"
   ]
  },
  {
   "cell_type": "markdown",
   "id": "killing-ladder",
   "metadata": {
    "papermill": {
     "duration": 1.014246,
     "end_time": "2021-06-10T15:07:41.339271",
     "exception": false,
     "start_time": "2021-06-10T15:07:40.325025",
     "status": "completed"
    },
    "tags": []
   },
   "source": [
    "****\n",
    "Let's compute the loss on validation data."
   ]
  },
  {
   "cell_type": "code",
   "execution_count": 18,
   "id": "every-experience",
   "metadata": {
    "execution": {
     "iopub.execute_input": "2021-06-10T15:07:43.396696Z",
     "iopub.status.busy": "2021-06-10T15:07:43.395516Z",
     "iopub.status.idle": "2021-06-10T15:07:43.404964Z",
     "shell.execute_reply": "2021-06-10T15:07:43.404447Z",
     "shell.execute_reply.started": "2021-06-10T14:57:37.108777Z"
    },
    "papermill": {
     "duration": 1.030313,
     "end_time": "2021-06-10T15:07:43.405104",
     "exception": false,
     "start_time": "2021-06-10T15:07:42.374791",
     "status": "completed"
    },
    "tags": []
   },
   "outputs": [],
   "source": [
    "# Computing losses\n",
    "\n",
    "lr_loss = rmse(y_test*max_price, lr_pred*max_price)\n",
    "rfr_loss = rmse(y_test*max_price, rfr_pred*max_price)\n",
    "xgbr_loss = rmse(y_test*max_price, xgbr_pred*max_price)\n",
    "enr_loss = rmse(y_test*max_price, enr_pred*max_price)\n",
    "dnn_loss = rmse(y_test*max_price, dnn_pred*max_price)\n",
    "weighted_avg_loss = rmse(y_test*max_price, weighted_avg_pred*max_price)"
   ]
  },
  {
   "cell_type": "markdown",
   "id": "suspended-disclosure",
   "metadata": {
    "papermill": {
     "duration": 1.624314,
     "end_time": "2021-06-10T15:07:46.093337",
     "exception": false,
     "start_time": "2021-06-10T15:07:44.469023",
     "status": "completed"
    },
    "tags": []
   },
   "source": [
    "****\n",
    "Let's visualise the loss of our models."
   ]
  },
  {
   "cell_type": "code",
   "execution_count": 19,
   "id": "circular-washer",
   "metadata": {
    "execution": {
     "iopub.execute_input": "2021-06-10T15:07:48.463622Z",
     "iopub.status.busy": "2021-06-10T15:07:48.462445Z",
     "iopub.status.idle": "2021-06-10T15:07:48.682161Z",
     "shell.execute_reply": "2021-06-10T15:07:48.682686Z",
     "shell.execute_reply.started": "2021-06-10T14:57:42.428175Z"
    },
    "papermill": {
     "duration": 1.379045,
     "end_time": "2021-06-10T15:07:48.682869",
     "exception": false,
     "start_time": "2021-06-10T15:07:47.303824",
     "status": "completed"
    },
    "tags": []
   },
   "outputs": [
    {
     "data": {
      "image/png": "[encoded data removed]",
      "text/plain": [
       "<Figure size 864x576 with 1 Axes>"
      ]
     },
     "metadata": {
      "needs_background": "light"
     },
     "output_type": "display_data"
    }
   ],
   "source": [
    "# Visualising comparison of our models by RMSE\n",
    "\n",
    "x = [\"Linear_reg\", \"Random_forest_reg\", \"XGBoost_reg\", \"ElasticNet_reg\", \"DNN_reg\", \"Ensemble\"]\n",
    "y = [lr_loss, rfr_loss, xgbr_loss, enr_loss, dnn_loss, weighted_avg_loss]\n",
    "fig, ax = plt.subplots(figsize=(12, 8))\n",
    "sns.barplot(x, y)\n",
    "plt.xlabel(\"( Algorithm Used )\")\n",
    "plt.ylabel(\"( RMSE Value )\")\n",
    "plt.show()"
   ]
  },
  {
   "cell_type": "markdown",
   "id": "selected-invitation",
   "metadata": {
    "papermill": {
     "duration": 1.009938,
     "end_time": "2021-06-10T15:07:50.705385",
     "exception": false,
     "start_time": "2021-06-10T15:07:49.695447",
     "status": "completed"
    },
    "tags": []
   },
   "source": [
    "****\n",
    "Let's display RMSE values of our models."
   ]
  },
  {
   "cell_type": "code",
   "execution_count": 20,
   "id": "musical-nashville",
   "metadata": {
    "execution": {
     "iopub.execute_input": "2021-06-10T15:07:52.754450Z",
     "iopub.status.busy": "2021-06-10T15:07:52.753670Z",
     "iopub.status.idle": "2021-06-10T15:07:52.759216Z",
     "shell.execute_reply": "2021-06-10T15:07:52.758646Z",
     "shell.execute_reply.started": "2021-06-10T14:56:29.723490Z"
    },
    "papermill": {
     "duration": 1.036759,
     "end_time": "2021-06-10T15:07:52.759358",
     "exception": false,
     "start_time": "2021-06-10T15:07:51.722599",
     "status": "completed"
    },
    "tags": []
   },
   "outputs": [
    {
     "name": "stdout",
     "output_type": "stream",
     "text": [
      "RMSE (Linear Regression):  4825278.312827822\n",
      "RMSE (Random Forest Regression):  4342555.20506123\n",
      "RMSE (Extreme Gradient Boosting Regression):  4467950.1921190815\n",
      "RMSE (Elastic Net Regression):  4958218.347060408\n",
      "RMSE (DNN Regression):  4213719.784724958\n",
      "RMSE (Weighted Average Ensemble):  4203864.73569847\n"
     ]
    }
   ],
   "source": [
    "# Displaying RMSE values of our models\n",
    "\n",
    "print(\"RMSE (Linear Regression): \", lr_loss)\n",
    "print(\"RMSE (Random Forest Regression): \", rfr_loss)\n",
    "print(\"RMSE (Extreme Gradient Boosting Regression): \", xgbr_loss)\n",
    "print(\"RMSE (Elastic Net Regression): \", enr_loss)\n",
    "print(\"RMSE (DNN Regression): \", dnn_loss)\n",
    "print(\"RMSE (Weighted Average Ensemble): \", weighted_avg_loss)"
   ]
  },
  {
   "cell_type": "markdown",
   "id": "hourly-democrat",
   "metadata": {
    "papermill": {
     "duration": 1.042421,
     "end_time": "2021-06-10T15:07:54.821963",
     "exception": false,
     "start_time": "2021-06-10T15:07:53.779542",
     "status": "completed"
    },
    "tags": []
   },
   "source": [
    "****\n",
    "Let's save our models."
   ]
  },
  {
   "cell_type": "code",
   "execution_count": 21,
   "id": "based-trademark",
   "metadata": {
    "execution": {
     "iopub.execute_input": "2021-06-10T15:07:56.895172Z",
     "iopub.status.busy": "2021-06-10T15:07:56.893909Z",
     "iopub.status.idle": "2021-06-10T15:07:59.666542Z",
     "shell.execute_reply": "2021-06-10T15:07:59.665580Z",
     "shell.execute_reply.started": "2021-06-10T14:56:29.732022Z"
    },
    "papermill": {
     "duration": 3.830631,
     "end_time": "2021-06-10T15:07:59.666700",
     "exception": false,
     "start_time": "2021-06-10T15:07:55.836069",
     "status": "completed"
    },
    "tags": []
   },
   "outputs": [],
   "source": [
    "# Saving all our models\n",
    "pickle.dump(lr, open(\"LinearRegressor\", 'wb'))\n",
    "pickle.dump(rfr, open(\"RandomForestRegressor\", 'wb'))\n",
    "pickle.dump(xgbr, open(\"XGBRegressor\", 'wb'))\n",
    "pickle.dump(enr, open(\"ElasticNetRegressor\", 'wb'))\n",
    "save_model(dnn, \"DNNRegressor\")"
   ]
  },
  {
   "cell_type": "markdown",
   "id": "isolated-junction",
   "metadata": {
    "papermill": {
     "duration": 1.022161,
     "end_time": "2021-06-10T15:08:01.717529",
     "exception": false,
     "start_time": "2021-06-10T15:08:00.695368",
     "status": "completed"
    },
    "tags": []
   },
   "source": [
    "**RESULTS:**\n",
    "****\n",
    "* Eventhough we have processed our data well and preserved correlations so well while reducing dimensionality from 44 to 13, still loss values are huge. It is because high standard deviation in our target variable \"price\". So, The loss value cannot be reduced below a certain level.\n",
    "* We can't use this dataset to achieve great accuracy since the price value varies from too low to too high continuosly (not outliers).\n",
    "* From our evaluation, Random Forest, XGBoost, DNN Regression algorithms works better than other models in our data.\n",
    "* Weighted average of predictions of the above mentioned models(Ensemble) reduces the error further improving accuracy.\n",
    "****"
   ]
  }
 ],
 "metadata": {
  "kernelspec": {
   "display_name": "Python 3",
   "language": "python",
   "name": "python3"
  },
  "language_info": {
   "codemirror_mode": {
    "name": "ipython",
    "version": 3
   },
   "file_extension": ".py",
   "mimetype": "text/x-python",
   "name": "python",
   "nbconvert_exporter": "python",
   "pygments_lexer": "ipython3",
   "version": "3.7.10"
  },
  "papermill": {
   "default_parameters": {},
   "duration": 259.186309,
   "end_time": "2021-06-10T15:08:05.589538",
   "environment_variables": {},
   "exception": null,
   "input_path": "__notebook__.ipynb",
   "output_path": "__notebook__.ipynb",
   "parameters": {},
   "start_time": "2021-06-10T15:03:46.403229",
   "version": "2.3.3"
  }
 },
 "nbformat": 4,
 "nbformat_minor": 5
}
