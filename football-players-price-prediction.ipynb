{
 "cells": [
  {
   "cell_type": "markdown",
   "id": "incoming-comparison",
   "metadata": {
    "papermill": {
     "duration": 0.020966,
     "end_time": "2021-06-11T04:06:38.089622",
     "exception": false,
     "start_time": "2021-06-11T04:06:38.068656",
     "status": "completed"
    },
    "tags": []
   },
   "source": [
    "**In this notebook we will be developing different models and evaluate how they work on our Football Players Price prediction data.**\n",
    "****\n",
    "Let's import required modules."
   ]
  },
  {
   "cell_type": "code",
   "execution_count": 1,
   "id": "intimate-clark",
   "metadata": {
    "execution": {
     "iopub.execute_input": "2021-06-11T04:06:38.133898Z",
     "iopub.status.busy": "2021-06-11T04:06:38.132415Z",
     "iopub.status.idle": "2021-06-11T04:06:43.849103Z",
     "shell.execute_reply": "2021-06-11T04:06:43.848165Z",
     "shell.execute_reply.started": "2021-06-11T03:58:00.122003Z"
    },
    "papermill": {
     "duration": 5.739856,
     "end_time": "2021-06-11T04:06:43.849275",
     "exception": false,
     "start_time": "2021-06-11T04:06:38.109419",
     "status": "completed"
    },
    "tags": []
   },
   "outputs": [],
   "source": [
    "# Importing modules\n",
    "\n",
    "import pandas as pd\n",
    "import numpy as np\n",
    "import matplotlib.pyplot as plt\n",
    "import seaborn as sns\n",
    "import pickle                                          \n",
    "from category_encoders.target_encoder import TargetEncoder\n",
    "from sklearn.model_selection import train_test_split, GridSearchCV\n",
    "from sklearn.metrics import mean_squared_error as mse\n",
    "from sklearn.linear_model import LinearRegression, ElasticNet\n",
    "from sklearn.ensemble import RandomForestRegressor\n",
    "from xgboost import XGBRegressor\n",
    "from tensorflow.keras.models import Sequential, save_model\n",
    "from tensorflow.keras.layers import Dense, Dropout\n",
    "from tensorflow.keras.callbacks import EarlyStopping\n",
    "from IPython.display import display\n",
    "import warnings"
   ]
  },
  {
   "cell_type": "code",
   "execution_count": 2,
   "id": "reverse-combination",
   "metadata": {
    "execution": {
     "iopub.execute_input": "2021-06-11T04:06:43.893465Z",
     "iopub.status.busy": "2021-06-11T04:06:43.892234Z",
     "iopub.status.idle": "2021-06-11T04:06:43.894974Z",
     "shell.execute_reply": "2021-06-11T04:06:43.894580Z",
     "shell.execute_reply.started": "2021-06-11T03:58:07.490814Z"
    },
    "papermill": {
     "duration": 0.026033,
     "end_time": "2021-06-11T04:06:43.895080",
     "exception": false,
     "start_time": "2021-06-11T04:06:43.869047",
     "status": "completed"
    },
    "tags": []
   },
   "outputs": [],
   "source": [
    "# Disable displaying warnings\n",
    "warnings.filterwarnings(\"ignore\")"
   ]
  },
  {
   "cell_type": "markdown",
   "id": "fundamental-platform",
   "metadata": {
    "papermill": {
     "duration": 0.01921,
     "end_time": "2021-06-11T04:06:43.933823",
     "exception": false,
     "start_time": "2021-06-11T04:06:43.914613",
     "status": "completed"
    },
    "tags": []
   },
   "source": [
    "****\n",
    "Let's define some functions which we will use later."
   ]
  },
  {
   "cell_type": "code",
   "execution_count": 3,
   "id": "meaningful-drove",
   "metadata": {
    "execution": {
     "iopub.execute_input": "2021-06-11T04:06:43.983102Z",
     "iopub.status.busy": "2021-06-11T04:06:43.982407Z",
     "iopub.status.idle": "2021-06-11T04:06:43.985339Z",
     "shell.execute_reply": "2021-06-11T04:06:43.985722Z",
     "shell.execute_reply.started": "2021-06-11T03:58:07.498240Z"
    },
    "papermill": {
     "duration": 0.032592,
     "end_time": "2021-06-11T04:06:43.985858",
     "exception": false,
     "start_time": "2021-06-11T04:06:43.953266",
     "status": "completed"
    },
    "tags": []
   },
   "outputs": [],
   "source": [
    "# Combining columns using feature engineering\n",
    "def combine(col_key, df):\n",
    "    df[col_key] = (df[col_key+\"_champ\"]*0.15) + (df[col_key+\"_cup\"]*0.75) + (df[col_key+\"_continent\"])\n",
    "    df[col_key] = df[col_key].astype(int)\n",
    "    df.drop([col_key+\"_cup\", col_key+\"_champ\", col_key+\"_continent\"], axis=1, inplace=True)\n",
    "    \n",
    "\n",
    "# Max Normalisation\n",
    "def normalise(cols, df):\n",
    "    for col_key in cols:\n",
    "        df[col_key] = df[col_key] / np.max(df[col_key])\n",
    "        \n",
    "        \n",
    "# RMSE function\n",
    "def rmse(y_true, y_pred):\n",
    "    return np.sqrt(mse(y_true, y_pred))\n",
    "        \n",
    "\n",
    "# Creating DNN    \n",
    "def create_DNN(drop=0.2, act=\"relu\", optimizer=\"adam\"):\n",
    "    model = Sequential()\n",
    "    model.add(Dense(30, input_shape=(len(X_train.iloc[0,:]),), activation=act))\n",
    "    model.add(Dropout(drop))\n",
    "    model.add(Dense(20, activation=\"relu\"))\n",
    "    model.add(Dropout(drop))\n",
    "    model.add(Dense(20, activation=act))\n",
    "    model.add(Dropout(drop))\n",
    "    model.add(Dense(15, activation=\"relu\"))\n",
    "    model.add(Dropout(drop))\n",
    "    model.add(Dense(15, activation=act))\n",
    "    model.add(Dropout(drop))\n",
    "    model.add(Dense(5, activation=act))\n",
    "    model.add(Dense(1, activation=\"relu\"))\n",
    "    model.compile(optimizer=optimizer, loss=\"mean_squared_error\")\n",
    "    return model"
   ]
  },
  {
   "cell_type": "markdown",
   "id": "binding-concept",
   "metadata": {
    "papermill": {
     "duration": 0.01928,
     "end_time": "2021-06-11T04:06:44.024932",
     "exception": false,
     "start_time": "2021-06-11T04:06:44.005652",
     "status": "completed"
    },
    "tags": []
   },
   "source": [
    "****\n",
    "Let's load our data."
   ]
  },
  {
   "cell_type": "code",
   "execution_count": 4,
   "id": "active-channels",
   "metadata": {
    "execution": {
     "iopub.execute_input": "2021-06-11T04:06:44.071815Z",
     "iopub.status.busy": "2021-06-11T04:06:44.071262Z",
     "iopub.status.idle": "2021-06-11T04:06:44.166161Z",
     "shell.execute_reply": "2021-06-11T04:06:44.165703Z",
     "shell.execute_reply.started": "2021-06-11T03:58:07.511047Z"
    },
    "papermill": {
     "duration": 0.121616,
     "end_time": "2021-06-11T04:06:44.166282",
     "exception": false,
     "start_time": "2021-06-11T04:06:44.044666",
     "status": "completed"
    },
    "tags": []
   },
   "outputs": [],
   "source": [
    "# Loading data\n",
    "data = pd.read_csv(\"../input/football-players-price-dataset/dataset_football_cleaned.csv\")"
   ]
  },
  {
   "cell_type": "markdown",
   "id": "empty-provision",
   "metadata": {
    "papermill": {
     "duration": 0.019283,
     "end_time": "2021-06-11T04:06:44.205242",
     "exception": false,
     "start_time": "2021-06-11T04:06:44.185959",
     "status": "completed"
    },
    "tags": []
   },
   "source": [
    "****\n",
    "Let's start preprocessing our data."
   ]
  },
  {
   "cell_type": "code",
   "execution_count": 5,
   "id": "decreased-double",
   "metadata": {
    "execution": {
     "iopub.execute_input": "2021-06-11T04:06:44.257766Z",
     "iopub.status.busy": "2021-06-11T04:06:44.257027Z",
     "iopub.status.idle": "2021-06-11T04:06:44.295143Z",
     "shell.execute_reply": "2021-06-11T04:06:44.294756Z",
     "shell.execute_reply.started": "2021-06-11T03:58:07.630283Z"
    },
    "papermill": {
     "duration": 0.070441,
     "end_time": "2021-06-11T04:06:44.295257",
     "exception": false,
     "start_time": "2021-06-11T04:06:44.224816",
     "status": "completed"
    },
    "tags": []
   },
   "outputs": [],
   "source": [
    "# Converting into correct dtype\n",
    "data[[\"name\", \"first_name\", \"nation\", \"league\", \"team\", \"position\"]] = data[[\"name\", \"first_name\", \"nation\", \"league\", \"team\", \"position\"]].astype(\"category\")\n",
    "\n",
    "# Mean Imputation\n",
    "data[\"end_contract\"].fillna(int(np.mean(data[\"end_contract\"])), inplace=True)\n",
    "\n",
    "# Dropping unimportant features which can't be used for feature engineering\n",
    "data.drop([\"name\", \"first_name\"], axis=1, inplace=True)\n",
    "\n",
    "# Dropping columns containing no values\n",
    "data.drop([\"clean_sheet_champ\", \"conceded_goal_cup\", \"clean_sheet_cup\", \"conceded_goal_continent\", \"clean_sheet_continent\"], axis=1, inplace=True)\n",
    "\n",
    "# Dropping unimportant feature which is useless for feature engineering\n",
    "data.drop([\"conceded_goal_champ\"], axis=1, inplace=True)\n",
    "\n",
    "# Dropping unimportant feature which is useless for feature engineering\n",
    "data.drop([\"age\"], axis=1, inplace=True)"
   ]
  },
  {
   "cell_type": "code",
   "execution_count": 6,
   "id": "perceived-librarian",
   "metadata": {
    "execution": {
     "iopub.execute_input": "2021-06-11T04:06:44.338697Z",
     "iopub.status.busy": "2021-06-11T04:06:44.338167Z",
     "iopub.status.idle": "2021-06-11T04:06:44.383161Z",
     "shell.execute_reply": "2021-06-11T04:06:44.382721Z",
     "shell.execute_reply.started": "2021-06-11T03:58:07.690120Z"
    },
    "papermill": {
     "duration": 0.068777,
     "end_time": "2021-06-11T04:06:44.383285",
     "exception": false,
     "start_time": "2021-06-11T04:06:44.314508",
     "status": "completed"
    },
    "tags": []
   },
   "outputs": [],
   "source": [
    "# Creating new features from existing features while preserving corrolations and reducing dimensions using feature engineering\n",
    "\n",
    "combine(\"goal\", data)\n",
    "combine(\"assist\", data)\n",
    "combine(\"sub_out\", data)\n",
    "combine(\"sub_on\", data)\n",
    "combine(\"yellow_card\", data)\n",
    "combine(\"penalty_goal\", data)\n",
    "combine(\"second_yellow_card\", data)\n",
    "combine(\"red_card\", data)\n",
    "combine(\"own_goal\", data)"
   ]
  },
  {
   "cell_type": "code",
   "execution_count": 7,
   "id": "tracked-fishing",
   "metadata": {
    "execution": {
     "iopub.execute_input": "2021-06-11T04:06:44.430882Z",
     "iopub.status.busy": "2021-06-11T04:06:44.430218Z",
     "iopub.status.idle": "2021-06-11T04:06:44.520329Z",
     "shell.execute_reply": "2021-06-11T04:06:44.520796Z",
     "shell.execute_reply.started": "2021-06-11T03:58:07.742306Z"
    },
    "papermill": {
     "duration": 0.117387,
     "end_time": "2021-06-11T04:06:44.520965",
     "exception": false,
     "start_time": "2021-06-11T04:06:44.403578",
     "status": "completed"
    },
    "tags": []
   },
   "outputs": [],
   "source": [
    "# Instantiating mean encoder for categorical features\n",
    "te = TargetEncoder(cols=[\"nation\", \"league\", \"team\", \"position\"])\n",
    "\n",
    "# Fitting encoder to data\n",
    "te.fit(data[[\"nation\", \"league\", \"team\", \"position\"]], data[\"price\"])\n",
    "\n",
    "# Mean encoding data \n",
    "data[[\"nation\", \"league\", \"team\", \"position\"]] = te.transform(data[[\"nation\", \"league\", \"team\", \"position\"]])"
   ]
  },
  {
   "cell_type": "code",
   "execution_count": 8,
   "id": "requested-arena",
   "metadata": {
    "execution": {
     "iopub.execute_input": "2021-06-11T04:06:44.566472Z",
     "iopub.status.busy": "2021-06-11T04:06:44.565957Z",
     "iopub.status.idle": "2021-06-11T04:06:44.600278Z",
     "shell.execute_reply": "2021-06-11T04:06:44.600680Z",
     "shell.execute_reply.started": "2021-06-11T03:58:07.847350Z"
    },
    "papermill": {
     "duration": 0.059836,
     "end_time": "2021-06-11T04:06:44.600820",
     "exception": false,
     "start_time": "2021-06-11T04:06:44.540984",
     "status": "completed"
    },
    "tags": []
   },
   "outputs": [
    {
     "data": {
      "text/html": [
       "<div>\n",
       "<style scoped>\n",
       "    .dataframe tbody tr th:only-of-type {\n",
       "        vertical-align: middle;\n",
       "    }\n",
       "\n",
       "    .dataframe tbody tr th {\n",
       "        vertical-align: top;\n",
       "    }\n",
       "\n",
       "    .dataframe thead th {\n",
       "        text-align: right;\n",
       "    }\n",
       "</style>\n",
       "<table border=\"1\" class=\"dataframe\">\n",
       "  <thead>\n",
       "    <tr style=\"text-align: right;\">\n",
       "      <th></th>\n",
       "      <th>price_normalised</th>\n",
       "    </tr>\n",
       "  </thead>\n",
       "  <tbody>\n",
       "    <tr>\n",
       "      <th>price_normalised</th>\n",
       "      <td>1.000000</td>\n",
       "    </tr>\n",
       "    <tr>\n",
       "      <th>price</th>\n",
       "      <td>1.000000</td>\n",
       "    </tr>\n",
       "    <tr>\n",
       "      <th>team</th>\n",
       "      <td>0.729313</td>\n",
       "    </tr>\n",
       "    <tr>\n",
       "      <th>goal</th>\n",
       "      <td>0.437034</td>\n",
       "    </tr>\n",
       "    <tr>\n",
       "      <th>assist</th>\n",
       "      <td>0.430180</td>\n",
       "    </tr>\n",
       "    <tr>\n",
       "      <th>league</th>\n",
       "      <td>0.379942</td>\n",
       "    </tr>\n",
       "    <tr>\n",
       "      <th>goals_selection</th>\n",
       "      <td>0.375067</td>\n",
       "    </tr>\n",
       "    <tr>\n",
       "      <th>end_contract</th>\n",
       "      <td>0.310738</td>\n",
       "    </tr>\n",
       "    <tr>\n",
       "      <th>sub_out</th>\n",
       "      <td>0.294645</td>\n",
       "    </tr>\n",
       "    <tr>\n",
       "      <th>selections_nation</th>\n",
       "      <td>0.288971</td>\n",
       "    </tr>\n",
       "    <tr>\n",
       "      <th>nation</th>\n",
       "      <td>0.282257</td>\n",
       "    </tr>\n",
       "    <tr>\n",
       "      <th>sub_on</th>\n",
       "      <td>0.263591</td>\n",
       "    </tr>\n",
       "    <tr>\n",
       "      <th>yellow_card</th>\n",
       "      <td>0.248272</td>\n",
       "    </tr>\n",
       "    <tr>\n",
       "      <th>position</th>\n",
       "      <td>0.115284</td>\n",
       "    </tr>\n",
       "    <tr>\n",
       "      <th>second_yellow_card</th>\n",
       "      <td>0.067442</td>\n",
       "    </tr>\n",
       "    <tr>\n",
       "      <th>own_goal</th>\n",
       "      <td>0.051610</td>\n",
       "    </tr>\n",
       "    <tr>\n",
       "      <th>red_card</th>\n",
       "      <td>0.036017</td>\n",
       "    </tr>\n",
       "    <tr>\n",
       "      <th>penalty_goal</th>\n",
       "      <td>0.020666</td>\n",
       "    </tr>\n",
       "  </tbody>\n",
       "</table>\n",
       "</div>"
      ],
      "text/plain": [
       "                    price_normalised\n",
       "price_normalised            1.000000\n",
       "price                       1.000000\n",
       "team                        0.729313\n",
       "goal                        0.437034\n",
       "assist                      0.430180\n",
       "league                      0.379942\n",
       "goals_selection             0.375067\n",
       "end_contract                0.310738\n",
       "sub_out                     0.294645\n",
       "selections_nation           0.288971\n",
       "nation                      0.282257\n",
       "sub_on                      0.263591\n",
       "yellow_card                 0.248272\n",
       "position                    0.115284\n",
       "second_yellow_card          0.067442\n",
       "own_goal                    0.051610\n",
       "red_card                    0.036017\n",
       "penalty_goal                0.020666"
      ]
     },
     "metadata": {},
     "output_type": "display_data"
    }
   ],
   "source": [
    "# Max Normalising numerical features\n",
    "normalise([\"nation\", \"league\", \"team\", \"goals_selection\", \"selections_nation\", \"position\", \"end_contract\", \"goal\", \"assist\",  \\\n",
    "            \"sub_out\", \"sub_on\", \"yellow_card\", \"penalty_goal\", \"second_yellow_card\", \"red_card\", \"own_goal\"], df=data)\n",
    "\n",
    "# Normalising target variable (It helps in efficient training of some algorithms)\n",
    "max_price = np.max(data[\"price\"])\n",
    "data[\"price_normalised\"] = data[\"price\"]/max_price \n",
    "\n",
    "# displaying correlations after processing our data\n",
    "display(pd.DataFrame(data.corr()[\"price_normalised\"]).sort_values([\"price_normalised\"], ascending=False))"
   ]
  },
  {
   "cell_type": "code",
   "execution_count": 9,
   "id": "inappropriate-elizabeth",
   "metadata": {
    "execution": {
     "iopub.execute_input": "2021-06-11T04:06:44.644858Z",
     "iopub.status.busy": "2021-06-11T04:06:44.644342Z",
     "iopub.status.idle": "2021-06-11T04:06:44.648770Z",
     "shell.execute_reply": "2021-06-11T04:06:44.649132Z",
     "shell.execute_reply.started": "2021-06-11T03:58:07.890022Z"
    },
    "papermill": {
     "duration": 0.028184,
     "end_time": "2021-06-11T04:06:44.649259",
     "exception": false,
     "start_time": "2021-06-11T04:06:44.621075",
     "status": "completed"
    },
    "tags": []
   },
   "outputs": [],
   "source": [
    "# Dropping unimportant features\n",
    "data.drop([\"position\", \"second_yellow_card\", \"red_card\", \"own_goal\", \"penalty_goal\"], axis=1, inplace=True)"
   ]
  },
  {
   "cell_type": "markdown",
   "id": "knowing-client",
   "metadata": {
    "papermill": {
     "duration": 0.019714,
     "end_time": "2021-06-11T04:06:44.688889",
     "exception": false,
     "start_time": "2021-06-11T04:06:44.669175",
     "status": "completed"
    },
    "tags": []
   },
   "source": [
    "****\n",
    "Let's Export the data we processed."
   ]
  },
  {
   "cell_type": "code",
   "execution_count": 10,
   "id": "monthly-moral",
   "metadata": {
    "execution": {
     "iopub.execute_input": "2021-06-11T04:06:44.731931Z",
     "iopub.status.busy": "2021-06-11T04:06:44.731191Z",
     "iopub.status.idle": "2021-06-11T04:06:45.119480Z",
     "shell.execute_reply": "2021-06-11T04:06:45.118994Z",
     "shell.execute_reply.started": "2021-06-11T03:58:07.897528Z"
    },
    "papermill": {
     "duration": 0.410863,
     "end_time": "2021-06-11T04:06:45.119641",
     "exception": false,
     "start_time": "2021-06-11T04:06:44.708778",
     "status": "completed"
    },
    "tags": []
   },
   "outputs": [],
   "source": [
    "# Creating csv file of processed data\n",
    "data.to_csv(\"preprocessed_data.csv\")"
   ]
  },
  {
   "cell_type": "markdown",
   "id": "suspected-welding",
   "metadata": {
    "papermill": {
     "duration": 0.019861,
     "end_time": "2021-06-11T04:06:45.159726",
     "exception": false,
     "start_time": "2021-06-11T04:06:45.139865",
     "status": "completed"
    },
    "tags": []
   },
   "source": [
    "****\n",
    "Splitting data into training and validation sets."
   ]
  },
  {
   "cell_type": "code",
   "execution_count": 11,
   "id": "initial-relay",
   "metadata": {
    "execution": {
     "iopub.execute_input": "2021-06-11T04:06:45.207155Z",
     "iopub.status.busy": "2021-06-11T04:06:45.206402Z",
     "iopub.status.idle": "2021-06-11T04:06:45.210991Z",
     "shell.execute_reply": "2021-06-11T04:06:45.210593Z",
     "shell.execute_reply.started": "2021-06-11T03:58:08.451253Z"
    },
    "papermill": {
     "duration": 0.031293,
     "end_time": "2021-06-11T04:06:45.211096",
     "exception": false,
     "start_time": "2021-06-11T04:06:45.179803",
     "status": "completed"
    },
    "tags": []
   },
   "outputs": [],
   "source": [
    "# Train test splitting\n",
    "X = data.loc[:, (data.columns!=\"price\") & (data.columns!=\"price_normalised\")]\n",
    "y = data[\"price_normalised\"]\n",
    "X_train, X_test, y_train, y_test = train_test_split(X, y, test_size=0.3, random_state=22)"
   ]
  },
  {
   "cell_type": "markdown",
   "id": "persistent-condition",
   "metadata": {
    "papermill": {
     "duration": 0.019731,
     "end_time": "2021-06-11T04:06:45.250655",
     "exception": false,
     "start_time": "2021-06-11T04:06:45.230924",
     "status": "completed"
    },
    "tags": []
   },
   "source": [
    "****\n",
    "Let's create different models."
   ]
  },
  {
   "cell_type": "code",
   "execution_count": 12,
   "id": "hybrid-evanescence",
   "metadata": {
    "execution": {
     "iopub.execute_input": "2021-06-11T04:06:45.295515Z",
     "iopub.status.busy": "2021-06-11T04:06:45.295024Z",
     "iopub.status.idle": "2021-06-11T04:06:45.316994Z",
     "shell.execute_reply": "2021-06-11T04:06:45.317619Z",
     "shell.execute_reply.started": "2021-06-11T03:58:08.461652Z"
    },
    "papermill": {
     "duration": 0.047312,
     "end_time": "2021-06-11T04:06:45.317803",
     "exception": false,
     "start_time": "2021-06-11T04:06:45.270491",
     "status": "completed"
    },
    "tags": []
   },
   "outputs": [],
   "source": [
    "# Evaluating with Linear Regression algorithm\n",
    "lr = LinearRegression()\n",
    "lr.fit(X_train, y_train)\n",
    "lr_pred = lr.predict(X_test)"
   ]
  },
  {
   "cell_type": "code",
   "execution_count": 13,
   "id": "organized-formula",
   "metadata": {
    "execution": {
     "iopub.execute_input": "2021-06-11T04:06:45.414114Z",
     "iopub.status.busy": "2021-06-11T04:06:45.413303Z",
     "iopub.status.idle": "2021-06-11T04:09:24.212756Z",
     "shell.execute_reply": "2021-06-11T04:09:24.212288Z",
     "shell.execute_reply.started": "2021-06-11T03:58:08.509467Z"
    },
    "papermill": {
     "duration": 158.839464,
     "end_time": "2021-06-11T04:09:24.212892",
     "exception": false,
     "start_time": "2021-06-11T04:06:45.373428",
     "status": "completed"
    },
    "tags": []
   },
   "outputs": [
    {
     "name": "stdout",
     "output_type": "stream",
     "text": [
      "Fitting 3 folds for each of 6 candidates, totalling 18 fits\n",
      "[CV 1/3; 1/6] START max_depth=30, n_estimators=400..............................\n",
      "[CV 1/3; 1/6] END ............max_depth=30, n_estimators=400; total time=   6.7s\n",
      "[CV 2/3; 1/6] START max_depth=30, n_estimators=400..............................\n",
      "[CV 2/3; 1/6] END ............max_depth=30, n_estimators=400; total time=   6.6s\n",
      "[CV 3/3; 1/6] START max_depth=30, n_estimators=400..............................\n",
      "[CV 3/3; 1/6] END ............max_depth=30, n_estimators=400; total time=   6.5s\n",
      "[CV 1/3; 2/6] START max_depth=30, n_estimators=500..............................\n",
      "[CV 1/3; 2/6] END ............max_depth=30, n_estimators=500; total time=   8.0s\n",
      "[CV 2/3; 2/6] START max_depth=30, n_estimators=500..............................\n",
      "[CV 2/3; 2/6] END ............max_depth=30, n_estimators=500; total time=   8.0s\n",
      "[CV 3/3; 2/6] START max_depth=30, n_estimators=500..............................\n",
      "[CV 3/3; 2/6] END ............max_depth=30, n_estimators=500; total time=   8.8s\n",
      "[CV 1/3; 3/6] START max_depth=30, n_estimators=600..............................\n",
      "[CV 1/3; 3/6] END ............max_depth=30, n_estimators=600; total time=   9.9s\n",
      "[CV 2/3; 3/6] START max_depth=30, n_estimators=600..............................\n",
      "[CV 2/3; 3/6] END ............max_depth=30, n_estimators=600; total time=   9.6s\n",
      "[CV 3/3; 3/6] START max_depth=30, n_estimators=600..............................\n",
      "[CV 3/3; 3/6] END ............max_depth=30, n_estimators=600; total time=  10.0s\n",
      "[CV 1/3; 4/6] START max_depth=40, n_estimators=400..............................\n",
      "[CV 1/3; 4/6] END ............max_depth=40, n_estimators=400; total time=   6.3s\n",
      "[CV 2/3; 4/6] START max_depth=40, n_estimators=400..............................\n",
      "[CV 2/3; 4/6] END ............max_depth=40, n_estimators=400; total time=   6.4s\n",
      "[CV 3/3; 4/6] START max_depth=40, n_estimators=400..............................\n",
      "[CV 3/3; 4/6] END ............max_depth=40, n_estimators=400; total time=   6.4s\n",
      "[CV 1/3; 5/6] START max_depth=40, n_estimators=500..............................\n",
      "[CV 1/3; 5/6] END ............max_depth=40, n_estimators=500; total time=   8.3s\n",
      "[CV 2/3; 5/6] START max_depth=40, n_estimators=500..............................\n",
      "[CV 2/3; 5/6] END ............max_depth=40, n_estimators=500; total time=   8.0s\n",
      "[CV 3/3; 5/6] START max_depth=40, n_estimators=500..............................\n",
      "[CV 3/3; 5/6] END ............max_depth=40, n_estimators=500; total time=   8.1s\n",
      "[CV 1/3; 6/6] START max_depth=40, n_estimators=600..............................\n",
      "[CV 1/3; 6/6] END ............max_depth=40, n_estimators=600; total time=   9.5s\n",
      "[CV 2/3; 6/6] START max_depth=40, n_estimators=600..............................\n",
      "[CV 2/3; 6/6] END ............max_depth=40, n_estimators=600; total time=   9.9s\n",
      "[CV 3/3; 6/6] START max_depth=40, n_estimators=600..............................\n",
      "[CV 3/3; 6/6] END ............max_depth=40, n_estimators=600; total time=   9.9s\n",
      "best parameters found:  {'max_depth': 30, 'n_estimators': 500}\n"
     ]
    }
   ],
   "source": [
    "# Evaluating with Random Forest Regression algorithm\n",
    "param_grid = {\"n_estimators\":[400,500,600], \"max_depth\":[30,40]}\n",
    "rfr = RandomForestRegressor(min_samples_leaf=2, min_samples_split=15)\n",
    "\n",
    "# Using Grid Search for hyperparameter tuning\n",
    "rfr = GridSearchCV(estimator=rfr, param_grid=param_grid, cv=3, refit = True, verbose = 100)\n",
    "rfr.fit(X_train, y_train)\n",
    "print(\"best parameters found: \", rfr.best_params_)\n",
    "rfr_pred = rfr.predict(X_test)"
   ]
  },
  {
   "cell_type": "code",
   "execution_count": 14,
   "id": "funded-remark",
   "metadata": {
    "execution": {
     "iopub.execute_input": "2021-06-11T04:09:24.268265Z",
     "iopub.status.busy": "2021-06-11T04:09:24.267764Z",
     "iopub.status.idle": "2021-06-11T04:09:25.833352Z",
     "shell.execute_reply": "2021-06-11T04:09:25.832890Z",
     "shell.execute_reply.started": "2021-06-11T04:00:50.005637Z"
    },
    "papermill": {
     "duration": 1.595218,
     "end_time": "2021-06-11T04:09:25.833482",
     "exception": false,
     "start_time": "2021-06-11T04:09:24.238264",
     "status": "completed"
    },
    "tags": []
   },
   "outputs": [
    {
     "name": "stdout",
     "output_type": "stream",
     "text": [
      "[04:09:24] WARNING: ../src/objective/regression_obj.cu:171: reg:linear is now deprecated in favor of reg:squarederror.\n"
     ]
    }
   ],
   "source": [
    "# Evaluating with gradient boosting algorithm\n",
    "xgbr = XGBRegressor(objective=\"reg:linear\", random_state=22)\n",
    "xgbr.fit(X_train, y_train)\n",
    "xgbr_pred = xgbr.predict(X_test)"
   ]
  },
  {
   "cell_type": "code",
   "execution_count": 15,
   "id": "communist-oklahoma",
   "metadata": {
    "execution": {
     "iopub.execute_input": "2021-06-11T04:09:25.891807Z",
     "iopub.status.busy": "2021-06-11T04:09:25.890940Z",
     "iopub.status.idle": "2021-06-11T04:09:27.020245Z",
     "shell.execute_reply": "2021-06-11T04:09:27.021441Z",
     "shell.execute_reply.started": "2021-06-11T04:00:52.200494Z"
    },
    "papermill": {
     "duration": 1.1627,
     "end_time": "2021-06-11T04:09:27.021737",
     "exception": false,
     "start_time": "2021-06-11T04:09:25.859037",
     "status": "completed"
    },
    "tags": []
   },
   "outputs": [
    {
     "name": "stdout",
     "output_type": "stream",
     "text": [
      "Fitting 3 folds for each of 27 candidates, totalling 81 fits\n",
      "[CV 1/3; 1/27] START alpha=0.1, l1_ratio=0.4, max_iter=12.......................\n",
      "[CV 1/3; 1/27] END .....alpha=0.1, l1_ratio=0.4, max_iter=12; total time=   0.0s\n",
      "[CV 2/3; 1/27] START alpha=0.1, l1_ratio=0.4, max_iter=12.......................\n",
      "[CV 2/3; 1/27] END .....alpha=0.1, l1_ratio=0.4, max_iter=12; total time=   0.0s\n",
      "[CV 3/3; 1/27] START alpha=0.1, l1_ratio=0.4, max_iter=12.......................\n",
      "[CV 3/3; 1/27] END .....alpha=0.1, l1_ratio=0.4, max_iter=12; total time=   0.0s\n",
      "[CV 1/3; 2/27] START alpha=0.1, l1_ratio=0.4, max_iter=15.......................\n",
      "[CV 1/3; 2/27] END .....alpha=0.1, l1_ratio=0.4, max_iter=15; total time=   0.0s\n",
      "[CV 2/3; 2/27] START alpha=0.1, l1_ratio=0.4, max_iter=15.......................\n",
      "[CV 2/3; 2/27] END .....alpha=0.1, l1_ratio=0.4, max_iter=15; total time=   0.0s\n",
      "[CV 3/3; 2/27] START alpha=0.1, l1_ratio=0.4, max_iter=15.......................\n",
      "[CV 3/3; 2/27] END .....alpha=0.1, l1_ratio=0.4, max_iter=15; total time=   0.0s\n",
      "[CV 1/3; 3/27] START alpha=0.1, l1_ratio=0.4, max_iter=18.......................\n",
      "[CV 1/3; 3/27] END .....alpha=0.1, l1_ratio=0.4, max_iter=18; total time=   0.0s\n",
      "[CV 2/3; 3/27] START alpha=0.1, l1_ratio=0.4, max_iter=18.......................\n",
      "[CV 2/3; 3/27] END .....alpha=0.1, l1_ratio=0.4, max_iter=18; total time=   0.0s\n",
      "[CV 3/3; 3/27] START alpha=0.1, l1_ratio=0.4, max_iter=18.......................\n",
      "[CV 3/3; 3/27] END .....alpha=0.1, l1_ratio=0.4, max_iter=18; total time=   0.0s\n",
      "[CV 1/3; 4/27] START alpha=0.1, l1_ratio=0.7, max_iter=12.......................\n",
      "[CV 1/3; 4/27] END .....alpha=0.1, l1_ratio=0.7, max_iter=12; total time=   0.0s\n",
      "[CV 2/3; 4/27] START alpha=0.1, l1_ratio=0.7, max_iter=12.......................\n",
      "[CV 2/3; 4/27] END .....alpha=0.1, l1_ratio=0.7, max_iter=12; total time=   0.0s\n",
      "[CV 3/3; 4/27] START alpha=0.1, l1_ratio=0.7, max_iter=12.......................\n",
      "[CV 3/3; 4/27] END .....alpha=0.1, l1_ratio=0.7, max_iter=12; total time=   0.0s\n",
      "[CV 1/3; 5/27] START alpha=0.1, l1_ratio=0.7, max_iter=15.......................\n",
      "[CV 1/3; 5/27] END .....alpha=0.1, l1_ratio=0.7, max_iter=15; total time=   0.0s\n",
      "[CV 2/3; 5/27] START alpha=0.1, l1_ratio=0.7, max_iter=15.......................\n",
      "[CV 2/3; 5/27] END .....alpha=0.1, l1_ratio=0.7, max_iter=15; total time=   0.0s\n",
      "[CV 3/3; 5/27] START alpha=0.1, l1_ratio=0.7, max_iter=15.......................\n",
      "[CV 3/3; 5/27] END .....alpha=0.1, l1_ratio=0.7, max_iter=15; total time=   0.0s\n",
      "[CV 1/3; 6/27] START alpha=0.1, l1_ratio=0.7, max_iter=18.......................\n",
      "[CV 1/3; 6/27] END .....alpha=0.1, l1_ratio=0.7, max_iter=18; total time=   0.0s\n",
      "[CV 2/3; 6/27] START alpha=0.1, l1_ratio=0.7, max_iter=18.......................\n",
      "[CV 2/3; 6/27] END .....alpha=0.1, l1_ratio=0.7, max_iter=18; total time=   0.0s\n",
      "[CV 3/3; 6/27] START alpha=0.1, l1_ratio=0.7, max_iter=18.......................\n",
      "[CV 3/3; 6/27] END .....alpha=0.1, l1_ratio=0.7, max_iter=18; total time=   0.0s\n",
      "[CV 1/3; 7/27] START alpha=0.1, l1_ratio=1, max_iter=12.........................\n",
      "[CV 1/3; 7/27] END .......alpha=0.1, l1_ratio=1, max_iter=12; total time=   0.0s\n",
      "[CV 2/3; 7/27] START alpha=0.1, l1_ratio=1, max_iter=12.........................\n",
      "[CV 2/3; 7/27] END .......alpha=0.1, l1_ratio=1, max_iter=12; total time=   0.0s\n",
      "[CV 3/3; 7/27] START alpha=0.1, l1_ratio=1, max_iter=12.........................\n",
      "[CV 3/3; 7/27] END .......alpha=0.1, l1_ratio=1, max_iter=12; total time=   0.0s\n",
      "[CV 1/3; 8/27] START alpha=0.1, l1_ratio=1, max_iter=15.........................\n",
      "[CV 1/3; 8/27] END .......alpha=0.1, l1_ratio=1, max_iter=15; total time=   0.0s\n",
      "[CV 2/3; 8/27] START alpha=0.1, l1_ratio=1, max_iter=15.........................\n",
      "[CV 2/3; 8/27] END .......alpha=0.1, l1_ratio=1, max_iter=15; total time=   0.0s\n",
      "[CV 3/3; 8/27] START alpha=0.1, l1_ratio=1, max_iter=15.........................\n",
      "[CV 3/3; 8/27] END .......alpha=0.1, l1_ratio=1, max_iter=15; total time=   0.0s\n",
      "[CV 1/3; 9/27] START alpha=0.1, l1_ratio=1, max_iter=18.........................\n",
      "[CV 1/3; 9/27] END .......alpha=0.1, l1_ratio=1, max_iter=18; total time=   0.0s\n",
      "[CV 2/3; 9/27] START alpha=0.1, l1_ratio=1, max_iter=18.........................\n",
      "[CV 2/3; 9/27] END .......alpha=0.1, l1_ratio=1, max_iter=18; total time=   0.0s\n",
      "[CV 3/3; 9/27] START alpha=0.1, l1_ratio=1, max_iter=18.........................\n",
      "[CV 3/3; 9/27] END .......alpha=0.1, l1_ratio=1, max_iter=18; total time=   0.0s\n",
      "[CV 1/3; 10/27] START alpha=0.001, l1_ratio=0.4, max_iter=12....................\n",
      "[CV 1/3; 10/27] END ..alpha=0.001, l1_ratio=0.4, max_iter=12; total time=   0.0s\n",
      "[CV 2/3; 10/27] START alpha=0.001, l1_ratio=0.4, max_iter=12....................\n",
      "[CV 2/3; 10/27] END ..alpha=0.001, l1_ratio=0.4, max_iter=12; total time=   0.0s\n",
      "[CV 3/3; 10/27] START alpha=0.001, l1_ratio=0.4, max_iter=12....................\n",
      "[CV 3/3; 10/27] END ..alpha=0.001, l1_ratio=0.4, max_iter=12; total time=   0.0s\n",
      "[CV 1/3; 11/27] START alpha=0.001, l1_ratio=0.4, max_iter=15....................\n",
      "[CV 1/3; 11/27] END ..alpha=0.001, l1_ratio=0.4, max_iter=15; total time=   0.0s\n",
      "[CV 2/3; 11/27] START alpha=0.001, l1_ratio=0.4, max_iter=15....................\n",
      "[CV 2/3; 11/27] END ..alpha=0.001, l1_ratio=0.4, max_iter=15; total time=   0.0s\n",
      "[CV 3/3; 11/27] START alpha=0.001, l1_ratio=0.4, max_iter=15....................\n",
      "[CV 3/3; 11/27] END ..alpha=0.001, l1_ratio=0.4, max_iter=15; total time=   0.0s\n",
      "[CV 1/3; 12/27] START alpha=0.001, l1_ratio=0.4, max_iter=18....................\n",
      "[CV 1/3; 12/27] END ..alpha=0.001, l1_ratio=0.4, max_iter=18; total time=   0.0s\n",
      "[CV 2/3; 12/27] START alpha=0.001, l1_ratio=0.4, max_iter=18....................\n",
      "[CV 2/3; 12/27] END ..alpha=0.001, l1_ratio=0.4, max_iter=18; total time=   0.0s\n",
      "[CV 3/3; 12/27] START alpha=0.001, l1_ratio=0.4, max_iter=18....................\n",
      "[CV 3/3; 12/27] END ..alpha=0.001, l1_ratio=0.4, max_iter=18; total time=   0.0s\n",
      "[CV 1/3; 13/27] START alpha=0.001, l1_ratio=0.7, max_iter=12....................\n",
      "[CV 1/3; 13/27] END ..alpha=0.001, l1_ratio=0.7, max_iter=12; total time=   0.0s\n",
      "[CV 2/3; 13/27] START alpha=0.001, l1_ratio=0.7, max_iter=12....................\n",
      "[CV 2/3; 13/27] END ..alpha=0.001, l1_ratio=0.7, max_iter=12; total time=   0.0s\n",
      "[CV 3/3; 13/27] START alpha=0.001, l1_ratio=0.7, max_iter=12....................\n",
      "[CV 3/3; 13/27] END ..alpha=0.001, l1_ratio=0.7, max_iter=12; total time=   0.0s\n",
      "[CV 1/3; 14/27] START alpha=0.001, l1_ratio=0.7, max_iter=15....................\n",
      "[CV 1/3; 14/27] END ..alpha=0.001, l1_ratio=0.7, max_iter=15; total time=   0.0s\n",
      "[CV 2/3; 14/27] START alpha=0.001, l1_ratio=0.7, max_iter=15....................\n",
      "[CV 2/3; 14/27] END ..alpha=0.001, l1_ratio=0.7, max_iter=15; total time=   0.0s\n",
      "[CV 3/3; 14/27] START alpha=0.001, l1_ratio=0.7, max_iter=15....................\n",
      "[CV 3/3; 14/27] END ..alpha=0.001, l1_ratio=0.7, max_iter=15; total time=   0.0s\n",
      "[CV 1/3; 15/27] START alpha=0.001, l1_ratio=0.7, max_iter=18....................\n",
      "[CV 1/3; 15/27] END ..alpha=0.001, l1_ratio=0.7, max_iter=18; total time=   0.0s\n",
      "[CV 2/3; 15/27] START alpha=0.001, l1_ratio=0.7, max_iter=18....................\n",
      "[CV 2/3; 15/27] END ..alpha=0.001, l1_ratio=0.7, max_iter=18; total time=   0.0s\n",
      "[CV 3/3; 15/27] START alpha=0.001, l1_ratio=0.7, max_iter=18....................\n",
      "[CV 3/3; 15/27] END ..alpha=0.001, l1_ratio=0.7, max_iter=18; total time=   0.0s\n",
      "[CV 1/3; 16/27] START alpha=0.001, l1_ratio=1, max_iter=12......................\n",
      "[CV 1/3; 16/27] END ....alpha=0.001, l1_ratio=1, max_iter=12; total time=   0.0s\n",
      "[CV 2/3; 16/27] START alpha=0.001, l1_ratio=1, max_iter=12......................\n",
      "[CV 2/3; 16/27] END ....alpha=0.001, l1_ratio=1, max_iter=12; total time=   0.0s\n",
      "[CV 3/3; 16/27] START alpha=0.001, l1_ratio=1, max_iter=12......................\n",
      "[CV 3/3; 16/27] END ....alpha=0.001, l1_ratio=1, max_iter=12; total time=   0.0s\n",
      "[CV 1/3; 17/27] START alpha=0.001, l1_ratio=1, max_iter=15......................\n",
      "[CV 1/3; 17/27] END ....alpha=0.001, l1_ratio=1, max_iter=15; total time=   0.0s\n",
      "[CV 2/3; 17/27] START alpha=0.001, l1_ratio=1, max_iter=15......................\n",
      "[CV 2/3; 17/27] END ....alpha=0.001, l1_ratio=1, max_iter=15; total time=   0.0s\n",
      "[CV 3/3; 17/27] START alpha=0.001, l1_ratio=1, max_iter=15......................\n",
      "[CV 3/3; 17/27] END ....alpha=0.001, l1_ratio=1, max_iter=15; total time=   0.0s\n",
      "[CV 1/3; 18/27] START alpha=0.001, l1_ratio=1, max_iter=18......................\n",
      "[CV 1/3; 18/27] END ....alpha=0.001, l1_ratio=1, max_iter=18; total time=   0.0s\n",
      "[CV 2/3; 18/27] START alpha=0.001, l1_ratio=1, max_iter=18......................\n",
      "[CV 2/3; 18/27] END ....alpha=0.001, l1_ratio=1, max_iter=18; total time=   0.0s\n",
      "[CV 3/3; 18/27] START alpha=0.001, l1_ratio=1, max_iter=18......................\n",
      "[CV 3/3; 18/27] END ....alpha=0.001, l1_ratio=1, max_iter=18; total time=   0.0s\n",
      "[CV 1/3; 19/27] START alpha=0.0001, l1_ratio=0.4, max_iter=12...................\n",
      "[CV 1/3; 19/27] END .alpha=0.0001, l1_ratio=0.4, max_iter=12; total time=   0.0s\n",
      "[CV 2/3; 19/27] START alpha=0.0001, l1_ratio=0.4, max_iter=12...................\n",
      "[CV 2/3; 19/27] END .alpha=0.0001, l1_ratio=0.4, max_iter=12; total time=   0.0s\n",
      "[CV 3/3; 19/27] START alpha=0.0001, l1_ratio=0.4, max_iter=12...................\n",
      "[CV 3/3; 19/27] END .alpha=0.0001, l1_ratio=0.4, max_iter=12; total time=   0.0s\n",
      "[CV 1/3; 20/27] START alpha=0.0001, l1_ratio=0.4, max_iter=15...................\n",
      "[CV 1/3; 20/27] END .alpha=0.0001, l1_ratio=0.4, max_iter=15; total time=   0.0s\n",
      "[CV 2/3; 20/27] START alpha=0.0001, l1_ratio=0.4, max_iter=15...................\n",
      "[CV 2/3; 20/27] END .alpha=0.0001, l1_ratio=0.4, max_iter=15; total time=   0.0s\n",
      "[CV 3/3; 20/27] START alpha=0.0001, l1_ratio=0.4, max_iter=15...................\n",
      "[CV 3/3; 20/27] END .alpha=0.0001, l1_ratio=0.4, max_iter=15; total time=   0.0s\n",
      "[CV 1/3; 21/27] START alpha=0.0001, l1_ratio=0.4, max_iter=18...................\n",
      "[CV 1/3; 21/27] END .alpha=0.0001, l1_ratio=0.4, max_iter=18; total time=   0.0s\n",
      "[CV 2/3; 21/27] START alpha=0.0001, l1_ratio=0.4, max_iter=18...................\n",
      "[CV 2/3; 21/27] END .alpha=0.0001, l1_ratio=0.4, max_iter=18; total time=   0.0s\n",
      "[CV 3/3; 21/27] START alpha=0.0001, l1_ratio=0.4, max_iter=18...................\n",
      "[CV 3/3; 21/27] END .alpha=0.0001, l1_ratio=0.4, max_iter=18; total time=   0.0s\n",
      "[CV 1/3; 22/27] START alpha=0.0001, l1_ratio=0.7, max_iter=12...................\n",
      "[CV 1/3; 22/27] END .alpha=0.0001, l1_ratio=0.7, max_iter=12; total time=   0.0s\n",
      "[CV 2/3; 22/27] START alpha=0.0001, l1_ratio=0.7, max_iter=12...................\n",
      "[CV 2/3; 22/27] END .alpha=0.0001, l1_ratio=0.7, max_iter=12; total time=   0.0s\n",
      "[CV 3/3; 22/27] START alpha=0.0001, l1_ratio=0.7, max_iter=12...................\n",
      "[CV 3/3; 22/27] END .alpha=0.0001, l1_ratio=0.7, max_iter=12; total time=   0.0s\n",
      "[CV 1/3; 23/27] START alpha=0.0001, l1_ratio=0.7, max_iter=15...................\n",
      "[CV 1/3; 23/27] END .alpha=0.0001, l1_ratio=0.7, max_iter=15; total time=   0.0s\n",
      "[CV 2/3; 23/27] START alpha=0.0001, l1_ratio=0.7, max_iter=15...................\n",
      "[CV 2/3; 23/27] END .alpha=0.0001, l1_ratio=0.7, max_iter=15; total time=   0.0s\n",
      "[CV 3/3; 23/27] START alpha=0.0001, l1_ratio=0.7, max_iter=15...................\n",
      "[CV 3/3; 23/27] END .alpha=0.0001, l1_ratio=0.7, max_iter=15; total time=   0.0s\n",
      "[CV 1/3; 24/27] START alpha=0.0001, l1_ratio=0.7, max_iter=18...................\n",
      "[CV 1/3; 24/27] END .alpha=0.0001, l1_ratio=0.7, max_iter=18; total time=   0.0s\n",
      "[CV 2/3; 24/27] START alpha=0.0001, l1_ratio=0.7, max_iter=18...................\n",
      "[CV 2/3; 24/27] END .alpha=0.0001, l1_ratio=0.7, max_iter=18; total time=   0.0s\n",
      "[CV 3/3; 24/27] START alpha=0.0001, l1_ratio=0.7, max_iter=18...................\n",
      "[CV 3/3; 24/27] END .alpha=0.0001, l1_ratio=0.7, max_iter=18; total time=   0.0s\n",
      "[CV 1/3; 25/27] START alpha=0.0001, l1_ratio=1, max_iter=12.....................\n",
      "[CV 1/3; 25/27] END ...alpha=0.0001, l1_ratio=1, max_iter=12; total time=   0.0s\n",
      "[CV 2/3; 25/27] START alpha=0.0001, l1_ratio=1, max_iter=12.....................\n",
      "[CV 2/3; 25/27] END ...alpha=0.0001, l1_ratio=1, max_iter=12; total time=   0.0s\n",
      "[CV 3/3; 25/27] START alpha=0.0001, l1_ratio=1, max_iter=12.....................\n",
      "[CV 3/3; 25/27] END ...alpha=0.0001, l1_ratio=1, max_iter=12; total time=   0.0s\n",
      "[CV 1/3; 26/27] START alpha=0.0001, l1_ratio=1, max_iter=15.....................\n",
      "[CV 1/3; 26/27] END ...alpha=0.0001, l1_ratio=1, max_iter=15; total time=   0.0s\n",
      "[CV 2/3; 26/27] START alpha=0.0001, l1_ratio=1, max_iter=15.....................\n",
      "[CV 2/3; 26/27] END ...alpha=0.0001, l1_ratio=1, max_iter=15; total time=   0.0s\n",
      "[CV 3/3; 26/27] START alpha=0.0001, l1_ratio=1, max_iter=15.....................\n",
      "[CV 3/3; 26/27] END ...alpha=0.0001, l1_ratio=1, max_iter=15; total time=   0.0s\n",
      "[CV 1/3; 27/27] START alpha=0.0001, l1_ratio=1, max_iter=18.....................\n",
      "[CV 1/3; 27/27] END ...alpha=0.0001, l1_ratio=1, max_iter=18; total time=   0.0s\n",
      "[CV 2/3; 27/27] START alpha=0.0001, l1_ratio=1, max_iter=18.....................\n",
      "[CV 2/3; 27/27] END ...alpha=0.0001, l1_ratio=1, max_iter=18; total time=   0.0s\n",
      "[CV 3/3; 27/27] START alpha=0.0001, l1_ratio=1, max_iter=18.....................\n",
      "[CV 3/3; 27/27] END ...alpha=0.0001, l1_ratio=1, max_iter=18; total time=   0.0s\n",
      "best parameters found:  {'alpha': 0.0001, 'l1_ratio': 0.4, 'max_iter': 12}\n"
     ]
    }
   ],
   "source": [
    "# Evaluating with elastic net regression algorithm\n",
    "param_grid = {\"max_iter\":[12, 15, 18], \"alpha\":[0.1, 0.001, 0.0001], \"l1_ratio\":[0.4, 0.7, 1]}\n",
    "enr = ElasticNet()\n",
    "\n",
    "# Using Grid Search for hyperparameter tuning\n",
    "enr = GridSearchCV(estimator=enr, param_grid=param_grid, cv=3, refit = True, verbose = 100)\n",
    "enr.fit(X_train, y_train)\n",
    "print(\"best parameters found: \", enr.best_params_)\n",
    "enr_pred = enr.predict(X_test)"
   ]
  },
  {
   "cell_type": "code",
   "execution_count": 16,
   "id": "floating-florist",
   "metadata": {
    "execution": {
     "iopub.execute_input": "2021-06-11T04:09:27.172968Z",
     "iopub.status.busy": "2021-06-11T04:09:27.172218Z",
     "iopub.status.idle": "2021-06-11T04:11:26.644805Z",
     "shell.execute_reply": "2021-06-11T04:11:26.644283Z",
     "shell.execute_reply.started": "2021-06-11T04:02:11.678753Z"
    },
    "papermill": {
     "duration": 119.543555,
     "end_time": "2021-06-11T04:11:26.644954",
     "exception": false,
     "start_time": "2021-06-11T04:09:27.101399",
     "status": "completed"
    },
    "tags": []
   },
   "outputs": [
    {
     "name": "stdout",
     "output_type": "stream",
     "text": [
      "Epoch 1/100\n",
      "405/405 [==============================] - 3s 4ms/step - loss: 0.0017 - val_loss: 0.0014\n",
      "Epoch 2/100\n",
      "405/405 [==============================] - 1s 3ms/step - loss: 0.0016 - val_loss: 9.8574e-04\n",
      "Epoch 3/100\n",
      "405/405 [==============================] - 1s 3ms/step - loss: 9.0492e-04 - val_loss: 6.2361e-04\n",
      "Epoch 4/100\n",
      "405/405 [==============================] - 1s 3ms/step - loss: 7.7913e-04 - val_loss: 7.5332e-04\n",
      "Epoch 5/100\n",
      "405/405 [==============================] - 1s 3ms/step - loss: 6.7618e-04 - val_loss: 6.1463e-04\n",
      "Epoch 6/100\n",
      "405/405 [==============================] - 1s 3ms/step - loss: 6.3200e-04 - val_loss: 8.0502e-04\n",
      "Epoch 7/100\n",
      "405/405 [==============================] - 1s 3ms/step - loss: 6.7282e-04 - val_loss: 5.9315e-04\n",
      "Epoch 8/100\n",
      "405/405 [==============================] - 1s 3ms/step - loss: 4.9290e-04 - val_loss: 5.8346e-04\n",
      "Epoch 9/100\n",
      "405/405 [==============================] - 1s 3ms/step - loss: 5.1524e-04 - val_loss: 6.4441e-04\n",
      "Epoch 10/100\n",
      "405/405 [==============================] - 1s 3ms/step - loss: 6.9970e-04 - val_loss: 5.4647e-04\n",
      "Epoch 11/100\n",
      "405/405 [==============================] - 1s 3ms/step - loss: 5.0497e-04 - val_loss: 6.1002e-04\n",
      "Epoch 12/100\n",
      "405/405 [==============================] - 1s 3ms/step - loss: 5.1363e-04 - val_loss: 7.5688e-04\n",
      "Epoch 13/100\n",
      "405/405 [==============================] - 1s 3ms/step - loss: 5.3020e-04 - val_loss: 5.8494e-04\n",
      "Epoch 14/100\n",
      "405/405 [==============================] - 1s 3ms/step - loss: 4.4230e-04 - val_loss: 5.8553e-04\n",
      "Epoch 15/100\n",
      "405/405 [==============================] - 1s 3ms/step - loss: 7.3974e-04 - val_loss: 5.7475e-04\n",
      "Epoch 16/100\n",
      "405/405 [==============================] - 1s 3ms/step - loss: 6.3513e-04 - val_loss: 5.4641e-04\n",
      "Epoch 17/100\n",
      "405/405 [==============================] - 1s 3ms/step - loss: 5.4430e-04 - val_loss: 5.8190e-04\n",
      "Epoch 18/100\n",
      "405/405 [==============================] - 1s 3ms/step - loss: 5.8474e-04 - val_loss: 5.2989e-04\n",
      "Epoch 19/100\n",
      "405/405 [==============================] - 1s 3ms/step - loss: 5.2786e-04 - val_loss: 6.4558e-04\n",
      "Epoch 20/100\n",
      "405/405 [==============================] - 1s 3ms/step - loss: 4.8018e-04 - val_loss: 5.7608e-04\n",
      "Epoch 21/100\n",
      "405/405 [==============================] - 1s 3ms/step - loss: 5.3494e-04 - val_loss: 5.7559e-04\n",
      "Epoch 22/100\n",
      "405/405 [==============================] - 1s 3ms/step - loss: 4.5253e-04 - val_loss: 5.4381e-04\n",
      "Epoch 23/100\n",
      "405/405 [==============================] - 1s 3ms/step - loss: 5.9947e-04 - val_loss: 5.2130e-04\n",
      "Epoch 24/100\n",
      "405/405 [==============================] - 1s 3ms/step - loss: 4.8846e-04 - val_loss: 5.6043e-04\n",
      "Epoch 25/100\n",
      "405/405 [==============================] - 1s 3ms/step - loss: 4.7546e-04 - val_loss: 5.5855e-04\n",
      "Epoch 26/100\n",
      "405/405 [==============================] - 1s 3ms/step - loss: 4.8411e-04 - val_loss: 5.6859e-04\n",
      "Epoch 27/100\n",
      "405/405 [==============================] - 2s 4ms/step - loss: 4.2222e-04 - val_loss: 4.9385e-04\n",
      "Epoch 28/100\n",
      "405/405 [==============================] - 1s 3ms/step - loss: 3.7769e-04 - val_loss: 5.5332e-04\n",
      "Epoch 29/100\n",
      "405/405 [==============================] - 1s 3ms/step - loss: 4.8138e-04 - val_loss: 4.8299e-04\n",
      "Epoch 30/100\n",
      "405/405 [==============================] - 1s 3ms/step - loss: 4.5798e-04 - val_loss: 4.9067e-04\n",
      "Epoch 31/100\n",
      "405/405 [==============================] - 1s 3ms/step - loss: 4.5024e-04 - val_loss: 5.3731e-04\n",
      "Epoch 32/100\n",
      "405/405 [==============================] - 1s 3ms/step - loss: 4.9747e-04 - val_loss: 5.4507e-04\n",
      "Epoch 33/100\n",
      "405/405 [==============================] - 1s 3ms/step - loss: 3.8743e-04 - val_loss: 5.2205e-04\n",
      "Epoch 34/100\n",
      "405/405 [==============================] - 1s 3ms/step - loss: 3.8743e-04 - val_loss: 5.2557e-04\n",
      "Epoch 35/100\n",
      "405/405 [==============================] - 1s 3ms/step - loss: 4.5734e-04 - val_loss: 5.0634e-04\n",
      "Epoch 36/100\n",
      "405/405 [==============================] - 1s 3ms/step - loss: 4.8857e-04 - val_loss: 5.0885e-04\n",
      "Epoch 37/100\n",
      "405/405 [==============================] - 1s 3ms/step - loss: 3.9783e-04 - val_loss: 5.4232e-04\n",
      "Epoch 38/100\n",
      "405/405 [==============================] - 1s 3ms/step - loss: 4.5455e-04 - val_loss: 4.9814e-04\n",
      "Epoch 39/100\n",
      "405/405 [==============================] - 1s 3ms/step - loss: 3.5079e-04 - val_loss: 5.3380e-04\n",
      "Epoch 40/100\n",
      "405/405 [==============================] - 1s 3ms/step - loss: 4.9779e-04 - val_loss: 4.9680e-04\n",
      "Epoch 41/100\n",
      "405/405 [==============================] - 1s 3ms/step - loss: 3.8805e-04 - val_loss: 5.2555e-04\n",
      "Epoch 42/100\n",
      "405/405 [==============================] - 1s 3ms/step - loss: 4.4462e-04 - val_loss: 4.9626e-04\n",
      "Epoch 43/100\n",
      "405/405 [==============================] - 1s 3ms/step - loss: 3.9563e-04 - val_loss: 5.2500e-04\n",
      "Epoch 44/100\n",
      "405/405 [==============================] - 1s 3ms/step - loss: 4.2893e-04 - val_loss: 4.9206e-04\n",
      "Epoch 45/100\n",
      "405/405 [==============================] - 1s 3ms/step - loss: 4.1885e-04 - val_loss: 5.8645e-04\n",
      "Epoch 46/100\n",
      "405/405 [==============================] - 1s 3ms/step - loss: 4.4564e-04 - val_loss: 5.2435e-04\n",
      "Epoch 47/100\n",
      "405/405 [==============================] - 1s 3ms/step - loss: 3.4171e-04 - val_loss: 4.7690e-04\n",
      "Epoch 48/100\n",
      "405/405 [==============================] - 1s 3ms/step - loss: 5.1524e-04 - val_loss: 4.7985e-04\n",
      "Epoch 49/100\n",
      "405/405 [==============================] - 1s 3ms/step - loss: 5.1679e-04 - val_loss: 4.8120e-04\n",
      "Epoch 50/100\n",
      "405/405 [==============================] - 1s 3ms/step - loss: 3.9968e-04 - val_loss: 5.2699e-04\n",
      "Epoch 51/100\n",
      "405/405 [==============================] - 1s 3ms/step - loss: 3.5845e-04 - val_loss: 4.8032e-04\n",
      "Epoch 52/100\n",
      "405/405 [==============================] - 1s 3ms/step - loss: 4.3079e-04 - val_loss: 4.9764e-04\n",
      "Epoch 53/100\n",
      "405/405 [==============================] - 1s 3ms/step - loss: 4.3866e-04 - val_loss: 5.2974e-04\n",
      "Epoch 54/100\n",
      "405/405 [==============================] - 2s 4ms/step - loss: 3.3598e-04 - val_loss: 4.9235e-04\n",
      "Epoch 55/100\n",
      "405/405 [==============================] - 1s 3ms/step - loss: 3.5970e-04 - val_loss: 4.9615e-04\n",
      "Epoch 56/100\n",
      "405/405 [==============================] - 1s 3ms/step - loss: 3.5717e-04 - val_loss: 4.9113e-04\n",
      "Epoch 57/100\n",
      "405/405 [==============================] - 1s 3ms/step - loss: 4.2837e-04 - val_loss: 4.6130e-04\n",
      "Epoch 58/100\n",
      "405/405 [==============================] - 1s 3ms/step - loss: 4.3569e-04 - val_loss: 4.7910e-04\n",
      "Epoch 59/100\n",
      "405/405 [==============================] - 1s 3ms/step - loss: 3.9196e-04 - val_loss: 5.0494e-04\n",
      "Epoch 60/100\n",
      "405/405 [==============================] - 1s 3ms/step - loss: 3.7855e-04 - val_loss: 4.8998e-04\n",
      "Epoch 61/100\n",
      "405/405 [==============================] - 1s 3ms/step - loss: 4.0216e-04 - val_loss: 5.7826e-04\n",
      "Epoch 62/100\n",
      "405/405 [==============================] - 1s 3ms/step - loss: 4.5026e-04 - val_loss: 5.0933e-04\n",
      "Epoch 63/100\n",
      "405/405 [==============================] - 1s 3ms/step - loss: 4.2769e-04 - val_loss: 5.1086e-04\n",
      "Epoch 64/100\n",
      "405/405 [==============================] - 1s 3ms/step - loss: 4.1608e-04 - val_loss: 5.3082e-04\n",
      "Epoch 65/100\n",
      "405/405 [==============================] - 1s 3ms/step - loss: 4.2442e-04 - val_loss: 4.9834e-04\n",
      "Epoch 66/100\n",
      "405/405 [==============================] - 1s 3ms/step - loss: 4.2881e-04 - val_loss: 4.8117e-04\n",
      "Epoch 67/100\n",
      "405/405 [==============================] - 1s 3ms/step - loss: 3.4039e-04 - val_loss: 5.0465e-04\n",
      "Epoch 68/100\n",
      "405/405 [==============================] - 1s 3ms/step - loss: 4.0277e-04 - val_loss: 5.0492e-04\n",
      "Epoch 69/100\n",
      "405/405 [==============================] - 1s 3ms/step - loss: 4.4754e-04 - val_loss: 4.8359e-04\n",
      "Epoch 70/100\n",
      "405/405 [==============================] - 1s 3ms/step - loss: 3.8237e-04 - val_loss: 5.0453e-04\n",
      "Epoch 71/100\n",
      "405/405 [==============================] - 1s 3ms/step - loss: 4.3577e-04 - val_loss: 5.0790e-04\n",
      "Epoch 72/100\n",
      "405/405 [==============================] - 1s 3ms/step - loss: 4.0977e-04 - val_loss: 5.6375e-04\n",
      "Epoch 73/100\n",
      "405/405 [==============================] - 1s 3ms/step - loss: 3.9999e-04 - val_loss: 4.9456e-04\n",
      "Epoch 74/100\n",
      "405/405 [==============================] - 1s 3ms/step - loss: 3.7604e-04 - val_loss: 5.3361e-04\n",
      "Epoch 75/100\n",
      "405/405 [==============================] - 1s 3ms/step - loss: 3.9455e-04 - val_loss: 4.9651e-04\n",
      "Epoch 76/100\n",
      "405/405 [==============================] - 1s 3ms/step - loss: 4.4357e-04 - val_loss: 4.7611e-04\n",
      "Epoch 77/100\n",
      "405/405 [==============================] - 1s 3ms/step - loss: 4.6415e-04 - val_loss: 5.0710e-04\n",
      "Epoch 78/100\n",
      "405/405 [==============================] - 1s 3ms/step - loss: 3.8081e-04 - val_loss: 5.1964e-04\n",
      "Epoch 79/100\n",
      "405/405 [==============================] - 1s 3ms/step - loss: 4.1232e-04 - val_loss: 4.7293e-04\n",
      "Epoch 80/100\n",
      "405/405 [==============================] - 1s 3ms/step - loss: 3.9161e-04 - val_loss: 5.8616e-04\n",
      "Epoch 81/100\n",
      "405/405 [==============================] - 1s 3ms/step - loss: 4.0691e-04 - val_loss: 5.6880e-04\n",
      "Epoch 82/100\n",
      "405/405 [==============================] - 2s 4ms/step - loss: 3.9405e-04 - val_loss: 5.5301e-04\n",
      "Epoch 83/100\n",
      "405/405 [==============================] - 1s 3ms/step - loss: 3.9172e-04 - val_loss: 5.0600e-04\n",
      "Epoch 84/100\n",
      "405/405 [==============================] - 1s 3ms/step - loss: 3.8573e-04 - val_loss: 5.0456e-04\n",
      "Epoch 85/100\n",
      "405/405 [==============================] - 1s 3ms/step - loss: 3.2708e-04 - val_loss: 5.2146e-04\n",
      "Epoch 86/100\n",
      "405/405 [==============================] - 1s 3ms/step - loss: 4.3299e-04 - val_loss: 4.7912e-04\n",
      "Epoch 87/100\n",
      "405/405 [==============================] - 1s 3ms/step - loss: 4.5172e-04 - val_loss: 4.8165e-04\n",
      "Epoch 88/100\n",
      "405/405 [==============================] - 1s 3ms/step - loss: 4.9375e-04 - val_loss: 4.8020e-04\n",
      "Epoch 89/100\n",
      "405/405 [==============================] - 1s 3ms/step - loss: 4.5882e-04 - val_loss: 4.8844e-04\n",
      "Epoch 90/100\n",
      "405/405 [==============================] - 1s 3ms/step - loss: 3.4081e-04 - val_loss: 5.8035e-04\n",
      "Epoch 91/100\n",
      "405/405 [==============================] - 1s 3ms/step - loss: 3.9331e-04 - val_loss: 5.4354e-04\n",
      "Epoch 92/100\n",
      "405/405 [==============================] - 1s 3ms/step - loss: 3.6257e-04 - val_loss: 5.4077e-04\n",
      "Epoch 93/100\n",
      "405/405 [==============================] - 1s 3ms/step - loss: 3.9191e-04 - val_loss: 5.1760e-04\n",
      "Epoch 94/100\n",
      "405/405 [==============================] - 1s 3ms/step - loss: 4.1661e-04 - val_loss: 4.9813e-04\n",
      "Epoch 95/100\n",
      "405/405 [==============================] - 1s 3ms/step - loss: 3.8072e-04 - val_loss: 4.7827e-04\n",
      "Epoch 96/100\n",
      "405/405 [==============================] - 1s 3ms/step - loss: 4.7367e-04 - val_loss: 4.8351e-04\n",
      "Epoch 97/100\n",
      "405/405 [==============================] - 1s 3ms/step - loss: 3.5816e-04 - val_loss: 4.7354e-04\n",
      "Epoch 98/100\n",
      "405/405 [==============================] - 1s 3ms/step - loss: 3.8175e-04 - val_loss: 5.5013e-04\n",
      "Epoch 99/100\n",
      "405/405 [==============================] - 1s 3ms/step - loss: 4.6126e-04 - val_loss: 5.6436e-04\n",
      "Epoch 100/100\n",
      "405/405 [==============================] - 1s 3ms/step - loss: 4.7218e-04 - val_loss: 5.1554e-04\n"
     ]
    }
   ],
   "source": [
    "# Evaluating with DNN regression algorithm\n",
    "\n",
    "# Instantiating early stopping callback\n",
    "es = EarlyStopping(monitor=\"mean_squared_error\", mode='min', verbose=2, patience=3)\n",
    "\n",
    "# Creating DNN(\"tanh\" activation function, \"adam\" optimizer)\n",
    "dnn_tanh_adam = create_DNN(drop=0.1, act=\"tanh\")\n",
    "\n",
    "# Fitting to data\n",
    "dnn_tanh_adam.fit(X_train, y_train, validation_data=(X_test, y_test), epochs=100, batch_size=22, callbacks=[es])\n",
    "\n",
    "# Generating predictions\n",
    "dnn_pred_tanh_adam = dnn_tanh_adam.predict(X_test)"
   ]
  },
  {
   "cell_type": "code",
   "execution_count": 17,
   "id": "certain-oasis",
   "metadata": {
    "execution": {
     "iopub.execute_input": "2021-06-11T04:11:27.794433Z",
     "iopub.status.busy": "2021-06-11T04:11:27.793592Z",
     "iopub.status.idle": "2021-06-11T04:13:20.696319Z",
     "shell.execute_reply": "2021-06-11T04:13:20.695812Z",
     "shell.execute_reply.started": "2021-06-11T04:02:32.177497Z"
    },
    "papermill": {
     "duration": 113.562379,
     "end_time": "2021-06-11T04:13:20.696453",
     "exception": false,
     "start_time": "2021-06-11T04:11:27.134074",
     "status": "completed"
    },
    "tags": []
   },
   "outputs": [
    {
     "name": "stdout",
     "output_type": "stream",
     "text": [
      "Epoch 1/100\n",
      "405/405 [==============================] - 2s 3ms/step - loss: 0.0013 - val_loss: 0.0013\n",
      "Epoch 2/100\n",
      "405/405 [==============================] - 1s 3ms/step - loss: 0.0011 - val_loss: 0.0013\n",
      "Epoch 3/100\n",
      "405/405 [==============================] - 1s 3ms/step - loss: 0.0015 - val_loss: 0.0013\n",
      "Epoch 4/100\n",
      "405/405 [==============================] - 1s 3ms/step - loss: 0.0014 - val_loss: 0.0013\n",
      "Epoch 5/100\n",
      "405/405 [==============================] - 1s 3ms/step - loss: 0.0016 - val_loss: 0.0013\n",
      "Epoch 6/100\n",
      "405/405 [==============================] - 1s 3ms/step - loss: 0.0015 - val_loss: 0.0013\n",
      "Epoch 7/100\n",
      "405/405 [==============================] - 1s 3ms/step - loss: 0.0011 - val_loss: 0.0013\n",
      "Epoch 8/100\n",
      "405/405 [==============================] - 1s 3ms/step - loss: 0.0014 - val_loss: 0.0013\n",
      "Epoch 9/100\n",
      "405/405 [==============================] - 2s 4ms/step - loss: 0.0016 - val_loss: 0.0013\n",
      "Epoch 10/100\n",
      "405/405 [==============================] - 1s 3ms/step - loss: 0.0014 - val_loss: 0.0013\n",
      "Epoch 11/100\n",
      "405/405 [==============================] - 1s 3ms/step - loss: 0.0011 - val_loss: 0.0013\n",
      "Epoch 12/100\n",
      "405/405 [==============================] - 1s 3ms/step - loss: 0.0014 - val_loss: 0.0013\n",
      "Epoch 13/100\n",
      "405/405 [==============================] - 1s 3ms/step - loss: 0.0012 - val_loss: 0.0013\n",
      "Epoch 14/100\n",
      "405/405 [==============================] - 1s 3ms/step - loss: 0.0013 - val_loss: 0.0013\n",
      "Epoch 15/100\n",
      "405/405 [==============================] - 1s 3ms/step - loss: 0.0015 - val_loss: 0.0013\n",
      "Epoch 16/100\n",
      "405/405 [==============================] - 1s 3ms/step - loss: 0.0013 - val_loss: 0.0013\n",
      "Epoch 17/100\n",
      "405/405 [==============================] - 1s 3ms/step - loss: 0.0013 - val_loss: 0.0013\n",
      "Epoch 18/100\n",
      "405/405 [==============================] - 1s 3ms/step - loss: 0.0012 - val_loss: 0.0013\n",
      "Epoch 19/100\n",
      "405/405 [==============================] - 1s 3ms/step - loss: 0.0014 - val_loss: 0.0013\n",
      "Epoch 20/100\n",
      "405/405 [==============================] - 1s 3ms/step - loss: 0.0015 - val_loss: 0.0013\n",
      "Epoch 21/100\n",
      "405/405 [==============================] - 1s 3ms/step - loss: 0.0012 - val_loss: 0.0013\n",
      "Epoch 22/100\n",
      "405/405 [==============================] - 1s 3ms/step - loss: 0.0013 - val_loss: 0.0013\n",
      "Epoch 23/100\n",
      "405/405 [==============================] - 1s 3ms/step - loss: 0.0015 - val_loss: 0.0013\n",
      "Epoch 24/100\n",
      "405/405 [==============================] - 1s 3ms/step - loss: 0.0011 - val_loss: 0.0013\n",
      "Epoch 25/100\n",
      "405/405 [==============================] - 1s 3ms/step - loss: 0.0014 - val_loss: 0.0013\n",
      "Epoch 26/100\n",
      "405/405 [==============================] - 1s 3ms/step - loss: 0.0012 - val_loss: 0.0013\n",
      "Epoch 27/100\n",
      "405/405 [==============================] - 1s 3ms/step - loss: 0.0014 - val_loss: 0.0013\n",
      "Epoch 28/100\n",
      "405/405 [==============================] - 1s 3ms/step - loss: 0.0010 - val_loss: 0.0013\n",
      "Epoch 29/100\n",
      "405/405 [==============================] - 1s 3ms/step - loss: 0.0018 - val_loss: 0.0013\n",
      "Epoch 30/100\n",
      "405/405 [==============================] - 1s 3ms/step - loss: 0.0015 - val_loss: 0.0013\n",
      "Epoch 31/100\n",
      "405/405 [==============================] - 1s 3ms/step - loss: 0.0012 - val_loss: 0.0013\n",
      "Epoch 32/100\n",
      "405/405 [==============================] - 1s 3ms/step - loss: 0.0011 - val_loss: 0.0013\n",
      "Epoch 33/100\n",
      "405/405 [==============================] - 1s 3ms/step - loss: 0.0012 - val_loss: 0.0013\n",
      "Epoch 34/100\n",
      "405/405 [==============================] - 1s 3ms/step - loss: 0.0017 - val_loss: 0.0013\n",
      "Epoch 35/100\n",
      "405/405 [==============================] - 1s 3ms/step - loss: 0.0012 - val_loss: 0.0013\n",
      "Epoch 36/100\n",
      "405/405 [==============================] - 1s 3ms/step - loss: 0.0011 - val_loss: 0.0013\n",
      "Epoch 37/100\n",
      "405/405 [==============================] - 1s 3ms/step - loss: 0.0012 - val_loss: 0.0013\n",
      "Epoch 38/100\n",
      "405/405 [==============================] - 1s 3ms/step - loss: 0.0014 - val_loss: 0.0013\n",
      "Epoch 39/100\n",
      "405/405 [==============================] - 1s 3ms/step - loss: 0.0012 - val_loss: 0.0013\n",
      "Epoch 40/100\n",
      "405/405 [==============================] - 1s 3ms/step - loss: 0.0012 - val_loss: 0.0013\n",
      "Epoch 41/100\n",
      "405/405 [==============================] - 1s 3ms/step - loss: 0.0013 - val_loss: 0.0012\n",
      "Epoch 42/100\n",
      "405/405 [==============================] - 1s 3ms/step - loss: 0.0011 - val_loss: 0.0012\n",
      "Epoch 43/100\n",
      "405/405 [==============================] - 1s 3ms/step - loss: 0.0012 - val_loss: 0.0012\n",
      "Epoch 44/100\n",
      "405/405 [==============================] - 1s 3ms/step - loss: 0.0018 - val_loss: 0.0012\n",
      "Epoch 45/100\n",
      "405/405 [==============================] - 1s 3ms/step - loss: 0.0011 - val_loss: 0.0012\n",
      "Epoch 46/100\n",
      "405/405 [==============================] - 1s 3ms/step - loss: 0.0011 - val_loss: 0.0012\n",
      "Epoch 47/100\n",
      "405/405 [==============================] - 1s 3ms/step - loss: 0.0011 - val_loss: 0.0012\n",
      "Epoch 48/100\n",
      "405/405 [==============================] - 1s 3ms/step - loss: 0.0014 - val_loss: 0.0012\n",
      "Epoch 49/100\n",
      "405/405 [==============================] - 1s 3ms/step - loss: 0.0014 - val_loss: 0.0012\n",
      "Epoch 50/100\n",
      "405/405 [==============================] - 1s 3ms/step - loss: 0.0015 - val_loss: 0.0012\n",
      "Epoch 51/100\n",
      "405/405 [==============================] - 1s 3ms/step - loss: 0.0013 - val_loss: 0.0012\n",
      "Epoch 52/100\n",
      "405/405 [==============================] - 1s 3ms/step - loss: 0.0013 - val_loss: 0.0012\n",
      "Epoch 53/100\n",
      "405/405 [==============================] - 1s 3ms/step - loss: 0.0012 - val_loss: 0.0012\n",
      "Epoch 54/100\n",
      "405/405 [==============================] - 1s 3ms/step - loss: 0.0010 - val_loss: 0.0012\n",
      "Epoch 55/100\n",
      "405/405 [==============================] - 1s 3ms/step - loss: 0.0011 - val_loss: 0.0012\n",
      "Epoch 56/100\n",
      "405/405 [==============================] - 1s 3ms/step - loss: 0.0011 - val_loss: 0.0012\n",
      "Epoch 57/100\n",
      "405/405 [==============================] - 1s 3ms/step - loss: 0.0013 - val_loss: 0.0012\n",
      "Epoch 58/100\n",
      "405/405 [==============================] - 1s 3ms/step - loss: 0.0011 - val_loss: 0.0012\n",
      "Epoch 59/100\n",
      "405/405 [==============================] - 1s 3ms/step - loss: 0.0011 - val_loss: 0.0012\n",
      "Epoch 60/100\n",
      "405/405 [==============================] - 1s 3ms/step - loss: 0.0012 - val_loss: 0.0012\n",
      "Epoch 61/100\n",
      "405/405 [==============================] - 1s 3ms/step - loss: 0.0013 - val_loss: 0.0012\n",
      "Epoch 62/100\n",
      "405/405 [==============================] - 1s 3ms/step - loss: 0.0010 - val_loss: 0.0012\n",
      "Epoch 63/100\n",
      "405/405 [==============================] - 1s 3ms/step - loss: 9.1971e-04 - val_loss: 0.0012\n",
      "Epoch 64/100\n",
      "405/405 [==============================] - 1s 3ms/step - loss: 0.0011 - val_loss: 0.0012\n",
      "Epoch 65/100\n",
      "405/405 [==============================] - 1s 3ms/step - loss: 0.0012 - val_loss: 0.0012\n",
      "Epoch 66/100\n",
      "405/405 [==============================] - 1s 3ms/step - loss: 0.0011 - val_loss: 0.0012\n",
      "Epoch 67/100\n",
      "405/405 [==============================] - 1s 3ms/step - loss: 0.0013 - val_loss: 0.0012\n",
      "Epoch 68/100\n",
      "405/405 [==============================] - 1s 3ms/step - loss: 0.0012 - val_loss: 0.0012\n",
      "Epoch 69/100\n",
      "405/405 [==============================] - 1s 3ms/step - loss: 0.0012 - val_loss: 0.0011\n",
      "Epoch 70/100\n",
      "405/405 [==============================] - 1s 3ms/step - loss: 0.0012 - val_loss: 0.0011\n",
      "Epoch 71/100\n",
      "405/405 [==============================] - 1s 3ms/step - loss: 0.0011 - val_loss: 0.0011\n",
      "Epoch 72/100\n",
      "405/405 [==============================] - 1s 3ms/step - loss: 0.0011 - val_loss: 0.0011\n",
      "Epoch 73/100\n",
      "405/405 [==============================] - 1s 3ms/step - loss: 0.0012 - val_loss: 0.0011\n",
      "Epoch 74/100\n",
      "405/405 [==============================] - 1s 3ms/step - loss: 0.0012 - val_loss: 0.0011\n",
      "Epoch 75/100\n",
      "405/405 [==============================] - 1s 3ms/step - loss: 9.3426e-04 - val_loss: 0.0011\n",
      "Epoch 76/100\n",
      "405/405 [==============================] - 1s 3ms/step - loss: 0.0011 - val_loss: 0.0011\n",
      "Epoch 77/100\n",
      "405/405 [==============================] - 1s 3ms/step - loss: 0.0012 - val_loss: 0.0011\n",
      "Epoch 78/100\n",
      "405/405 [==============================] - 1s 3ms/step - loss: 0.0010 - val_loss: 0.0011\n",
      "Epoch 79/100\n",
      "405/405 [==============================] - 1s 3ms/step - loss: 0.0012 - val_loss: 0.0011\n",
      "Epoch 80/100\n",
      "405/405 [==============================] - 1s 3ms/step - loss: 0.0010 - val_loss: 0.0011\n",
      "Epoch 81/100\n",
      "405/405 [==============================] - 1s 3ms/step - loss: 0.0011 - val_loss: 0.0011\n",
      "Epoch 82/100\n",
      "405/405 [==============================] - 1s 3ms/step - loss: 0.0012 - val_loss: 0.0011\n",
      "Epoch 83/100\n",
      "405/405 [==============================] - 1s 3ms/step - loss: 0.0011 - val_loss: 0.0011\n",
      "Epoch 84/100\n",
      "405/405 [==============================] - 1s 3ms/step - loss: 0.0012 - val_loss: 0.0011\n",
      "Epoch 85/100\n",
      "405/405 [==============================] - 1s 3ms/step - loss: 0.0011 - val_loss: 0.0011\n",
      "Epoch 86/100\n",
      "405/405 [==============================] - 1s 3ms/step - loss: 9.2304e-04 - val_loss: 0.0011\n",
      "Epoch 87/100\n",
      "405/405 [==============================] - 1s 3ms/step - loss: 0.0011 - val_loss: 0.0011\n",
      "Epoch 88/100\n",
      "405/405 [==============================] - 1s 3ms/step - loss: 0.0011 - val_loss: 0.0010\n",
      "Epoch 89/100\n",
      "405/405 [==============================] - 1s 3ms/step - loss: 0.0013 - val_loss: 0.0010\n",
      "Epoch 90/100\n",
      "405/405 [==============================] - 1s 3ms/step - loss: 9.5471e-04 - val_loss: 0.0010\n",
      "Epoch 91/100\n",
      "405/405 [==============================] - 1s 3ms/step - loss: 8.2653e-04 - val_loss: 0.0010\n",
      "Epoch 92/100\n",
      "405/405 [==============================] - 1s 3ms/step - loss: 0.0013 - val_loss: 0.0010\n",
      "Epoch 93/100\n",
      "405/405 [==============================] - 1s 3ms/step - loss: 0.0011 - val_loss: 0.0010\n",
      "Epoch 94/100\n",
      "405/405 [==============================] - 1s 3ms/step - loss: 0.0012 - val_loss: 0.0010\n",
      "Epoch 95/100\n",
      "405/405 [==============================] - 1s 3ms/step - loss: 0.0010 - val_loss: 9.9859e-04\n",
      "Epoch 96/100\n",
      "405/405 [==============================] - 1s 3ms/step - loss: 8.9526e-04 - val_loss: 9.8952e-04\n",
      "Epoch 97/100\n",
      "405/405 [==============================] - 1s 3ms/step - loss: 0.0012 - val_loss: 9.8024e-04\n",
      "Epoch 98/100\n",
      "405/405 [==============================] - 1s 3ms/step - loss: 8.9213e-04 - val_loss: 9.7244e-04\n",
      "Epoch 99/100\n",
      "405/405 [==============================] - 1s 3ms/step - loss: 8.1147e-04 - val_loss: 9.7021e-04\n",
      "Epoch 100/100\n",
      "405/405 [==============================] - 1s 3ms/step - loss: 8.1735e-04 - val_loss: 9.6171e-04\n"
     ]
    }
   ],
   "source": [
    "# Creating DNN(\"rectified linear unit\" activation function, \"SGD\" optimizer)\n",
    "dnn_relu_SGD = create_DNN(drop=0.1, act=\"relu\", optimizer=\"SGD\")\n",
    "\n",
    "# Fitting to data\n",
    "dnn_relu_SGD.fit(X_train, y_train, validation_data=(X_test, y_test), epochs=100, batch_size=22, callbacks=[es])\n",
    "\n",
    "# Generating predictions\n",
    "dnn_pred_relu_SGD = dnn_relu_SGD.predict(X_test)"
   ]
  },
  {
   "cell_type": "code",
   "execution_count": 18,
   "id": "still-retirement",
   "metadata": {
    "execution": {
     "iopub.execute_input": "2021-06-11T04:13:22.608747Z",
     "iopub.status.busy": "2021-06-11T04:13:22.607245Z",
     "iopub.status.idle": "2021-06-11T04:13:22.609567Z",
     "shell.execute_reply": "2021-06-11T04:13:22.609981Z",
     "shell.execute_reply.started": "2021-06-11T04:02:49.227577Z"
    },
    "papermill": {
     "duration": 0.945832,
     "end_time": "2021-06-11T04:13:22.610115",
     "exception": false,
     "start_time": "2021-06-11T04:13:21.664283",
     "status": "completed"
    },
    "tags": []
   },
   "outputs": [],
   "source": [
    "# Weighted Average Ensemble\n",
    "weighted_avg_pred = (rfr_pred*0.3)+(xgbr_pred*0.3)+(dnn_pred_tanh_adam.reshape(len(dnn_pred_tanh_adam))*0.4)"
   ]
  },
  {
   "cell_type": "markdown",
   "id": "rural-north",
   "metadata": {
    "papermill": {
     "duration": 0.936985,
     "end_time": "2021-06-11T04:13:24.485393",
     "exception": false,
     "start_time": "2021-06-11T04:13:23.548408",
     "status": "completed"
    },
    "tags": []
   },
   "source": [
    "****\n",
    "Let's compute the loss on validation data."
   ]
  },
  {
   "cell_type": "code",
   "execution_count": 19,
   "id": "transsexual-opportunity",
   "metadata": {
    "execution": {
     "iopub.execute_input": "2021-06-11T04:13:26.401353Z",
     "iopub.status.busy": "2021-06-11T04:13:26.400491Z",
     "iopub.status.idle": "2021-06-11T04:13:26.406830Z",
     "shell.execute_reply": "2021-06-11T04:13:26.406403Z",
     "shell.execute_reply.started": "2021-06-11T04:02:51.982667Z"
    },
    "papermill": {
     "duration": 0.985529,
     "end_time": "2021-06-11T04:13:26.406946",
     "exception": false,
     "start_time": "2021-06-11T04:13:25.421417",
     "status": "completed"
    },
    "tags": []
   },
   "outputs": [],
   "source": [
    "# Computing losses\n",
    "\n",
    "lr_loss = rmse(y_test*max_price, lr_pred*max_price)\n",
    "rfr_loss = rmse(y_test*max_price, rfr_pred*max_price)\n",
    "xgbr_loss = rmse(y_test*max_price, xgbr_pred*max_price)\n",
    "enr_loss = rmse(y_test*max_price, enr_pred*max_price)\n",
    "dnn_loss_tanh_adam = rmse(y_test*max_price, dnn_pred_tanh_adam*max_price)\n",
    "dnn_loss_relu_SGD = rmse(y_test*max_price, dnn_pred_relu_SGD*max_price)\n",
    "weighted_avg_loss = rmse(y_test*max_price, weighted_avg_pred*max_price)"
   ]
  },
  {
   "cell_type": "markdown",
   "id": "engaged-scotland",
   "metadata": {
    "papermill": {
     "duration": 0.94147,
     "end_time": "2021-06-11T04:13:28.290394",
     "exception": false,
     "start_time": "2021-06-11T04:13:27.348924",
     "status": "completed"
    },
    "tags": []
   },
   "source": [
    "****\n",
    "Let's visualise the loss of our models."
   ]
  },
  {
   "cell_type": "code",
   "execution_count": 20,
   "id": "imported-complex",
   "metadata": {
    "execution": {
     "iopub.execute_input": "2021-06-11T04:13:30.413329Z",
     "iopub.status.busy": "2021-06-11T04:13:30.412589Z",
     "iopub.status.idle": "2021-06-11T04:13:30.582868Z",
     "shell.execute_reply": "2021-06-11T04:13:30.583280Z",
     "shell.execute_reply.started": "2021-06-11T04:03:54.068060Z"
    },
    "papermill": {
     "duration": 1.124456,
     "end_time": "2021-06-11T04:13:30.583423",
     "exception": false,
     "start_time": "2021-06-11T04:13:29.458967",
     "status": "completed"
    },
    "tags": []
   },
   "outputs": [
    {
     "data": {
      "image/png": "[encoded data removed]",
      "text/plain": [
       "<Figure size 1080x576 with 1 Axes>"
      ]
     },
     "metadata": {
      "needs_background": "light"
     },
     "output_type": "display_data"
    }
   ],
   "source": [
    "# Visualising comparison of our models by RMSE\n",
    "\n",
    "x = [\"Linear_reg\", \"Random_forest_reg\", \"XGBoost_reg\", \"ElasticNet_reg\", \"DNN_reg(tanh, adam)\", \"DNN_reg(relu, SGD)\", \"Ensemble\"]\n",
    "y = [lr_loss, rfr_loss, xgbr_loss, enr_loss, dnn_loss_tanh_adam, dnn_loss_relu_SGD, weighted_avg_loss]\n",
    "fig, ax = plt.subplots(figsize=(15, 8))\n",
    "sns.barplot(x, y)\n",
    "plt.xlabel(\"( Algorithm Used )\")\n",
    "plt.ylabel(\"( RMSE Value )\")\n",
    "plt.show()"
   ]
  },
  {
   "cell_type": "markdown",
   "id": "proprietary-homework",
   "metadata": {
    "papermill": {
     "duration": 0.936009,
     "end_time": "2021-06-11T04:13:32.456188",
     "exception": false,
     "start_time": "2021-06-11T04:13:31.520179",
     "status": "completed"
    },
    "tags": []
   },
   "source": [
    "****\n",
    "Let's display RMSE values of our models."
   ]
  },
  {
   "cell_type": "code",
   "execution_count": 21,
   "id": "substantial-spencer",
   "metadata": {
    "execution": {
     "iopub.execute_input": "2021-06-11T04:13:34.371095Z",
     "iopub.status.busy": "2021-06-11T04:13:34.370251Z",
     "iopub.status.idle": "2021-06-11T04:13:34.375656Z",
     "shell.execute_reply": "2021-06-11T04:13:34.374984Z",
     "shell.execute_reply.started": "2021-06-11T04:05:14.938045Z"
    },
    "papermill": {
     "duration": 0.951044,
     "end_time": "2021-06-11T04:13:34.375809",
     "exception": false,
     "start_time": "2021-06-11T04:13:33.424765",
     "status": "completed"
    },
    "tags": []
   },
   "outputs": [
    {
     "name": "stdout",
     "output_type": "stream",
     "text": [
      "RMSE (Linear Regression):  4825278.312827822\n",
      "RMSE (Random Forest Regression):  4366332.19473862\n",
      "RMSE (Extreme Gradient Boosting Regression):  4467950.1921190815\n",
      "RMSE (Elastic Net Regression):  4894543.310029396\n",
      "RMSE (DNN Regression(tanh, adam)):  4541116.707126348\n",
      "RMSE (DNN Regression(relu, SGD)):  6202299.3430307945\n",
      "RMSE (Weighted Average Ensemble):  4270396.559716115\n"
     ]
    }
   ],
   "source": [
    "# Displaying RMSE values of our models\n",
    "\n",
    "print(\"RMSE (Linear Regression): \", lr_loss)\n",
    "print(\"RMSE (Random Forest Regression): \", rfr_loss)\n",
    "print(\"RMSE (Extreme Gradient Boosting Regression): \", xgbr_loss)\n",
    "print(\"RMSE (Elastic Net Regression): \", enr_loss)\n",
    "print(\"RMSE (DNN Regression(tanh, adam)): \", dnn_loss_tanh_adam)\n",
    "print(\"RMSE (DNN Regression(relu, SGD)): \", dnn_loss_relu_SGD)\n",
    "print(\"RMSE (Weighted Average Ensemble): \", weighted_avg_loss)"
   ]
  },
  {
   "cell_type": "markdown",
   "id": "consolidated-emerald",
   "metadata": {
    "papermill": {
     "duration": 0.943422,
     "end_time": "2021-06-11T04:13:36.329594",
     "exception": false,
     "start_time": "2021-06-11T04:13:35.386172",
     "status": "completed"
    },
    "tags": []
   },
   "source": [
    "****\n",
    "Let's save our models."
   ]
  },
  {
   "cell_type": "code",
   "execution_count": 22,
   "id": "lined-family",
   "metadata": {
    "execution": {
     "iopub.execute_input": "2021-06-11T04:13:38.215604Z",
     "iopub.status.busy": "2021-06-11T04:13:38.214620Z",
     "iopub.status.idle": "2021-06-11T04:13:39.999041Z",
     "shell.execute_reply": "2021-06-11T04:13:39.999483Z",
     "shell.execute_reply.started": "2021-06-11T04:05:43.023088Z"
    },
    "papermill": {
     "duration": 2.730783,
     "end_time": "2021-06-11T04:13:39.999677",
     "exception": false,
     "start_time": "2021-06-11T04:13:37.268894",
     "status": "completed"
    },
    "tags": []
   },
   "outputs": [],
   "source": [
    "# Saving all our models\n",
    "pickle.dump(lr, open(\"LinearRegressor\", 'wb'))\n",
    "pickle.dump(rfr, open(\"RandomForestRegressor\", 'wb'))\n",
    "pickle.dump(xgbr, open(\"XGBRegressor\", 'wb'))\n",
    "pickle.dump(enr, open(\"ElasticNetRegressor\", 'wb'))\n",
    "save_model(dnn_tanh_adam, \"DNNRegressor\")"
   ]
  },
  {
   "cell_type": "markdown",
   "id": "textile-disco",
   "metadata": {
    "papermill": {
     "duration": 0.980642,
     "end_time": "2021-06-11T04:13:41.922445",
     "exception": false,
     "start_time": "2021-06-11T04:13:40.941803",
     "status": "completed"
    },
    "tags": []
   },
   "source": [
    "**RESULTS:**\n",
    "****\n",
    "* Eventhough we have processed our data well and preserved correlations so well while reducing dimensionality from 44 to 13, still loss values are huge. It is because high standard deviation in our target variable \"price\". So, The loss value cannot be reduced below a certain level.\n",
    "* We can't use this dataset to achieve great accuracy since the price value varies from too low to too high continuosly (not outliers).\n",
    "* From our evaluation, Random Forest, XGBoost, DNN Regression algorithms works better than other models with our data.\n",
    "* Weighted average of predictions of the above mentioned models(Ensemble) reduces the error further improving accuracy.\n",
    "****"
   ]
  }
 ],
 "metadata": {
  "kernelspec": {
   "display_name": "Python 3",
   "language": "python",
   "name": "python3"
  },
  "language_info": {
   "codemirror_mode": {
    "name": "ipython",
    "version": 3
   },
   "file_extension": ".py",
   "mimetype": "text/x-python",
   "name": "python",
   "nbconvert_exporter": "python",
   "pygments_lexer": "ipython3",
   "version": "3.7.10"
  },
  "papermill": {
   "default_parameters": {},
   "duration": 433.96494,
   "end_time": "2021-06-11T04:13:45.680175",
   "environment_variables": {},
   "exception": null,
   "input_path": "__notebook__.ipynb",
   "output_path": "__notebook__.ipynb",
   "parameters": {},
   "start_time": "2021-06-11T04:06:31.715235",
   "version": "2.3.3"
  }
 },
 "nbformat": 4,
 "nbformat_minor": 5
}
